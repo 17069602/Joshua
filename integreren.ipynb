{
 "cells": [
  {
   "cell_type": "code",
   "execution_count": null,
   "metadata": {
    "deletable": false,
    "editable": false,
    "nbgrader": {
     "cell_type": "code",
     "checksum": "da2120b296f1367d7be6adb9e885fc52",
     "grade": false,
     "grade_id": "import",
     "locked": true,
     "schema_version": 3,
     "solution": false
    }
   },
   "outputs": [],
   "source": [
    "# cel om modules te importeren. Nodig voor interne werking document\n",
    "import numpy as np\n",
    "import numpy.testing as t\n",
    "import matplotlib.pyplot as plt\n",
    "%matplotlib notebook"
   ]
  },
  {
   "cell_type": "markdown",
   "metadata": {
    "deletable": false,
    "editable": false,
    "nbgrader": {
     "cell_type": "markdown",
     "checksum": "b25c89988c8f571d194da7cbc06fc06e",
     "grade": false,
     "grade_id": "intro",
     "locked": true,
     "schema_version": 3,
     "solution": false
    }
   },
   "source": [
    "# Metrologie 2 - Integreren\n",
    "\n",
    "Integreren is het bepalen van het oppervlak onder een functie. In deze opdracht ga je verschillende algoritmes uitwerken (Trapezium en Simpson) met de bijbehorende onnauwkeurigheids analyse. Daarnaast ga je gemeten data integreren waarbij je de meetonnauwkeurigheid meeneemt in de uitwerking van het berekende oppervlak.\n",
    "\n",
    "\n",
    "Informatie over de verschillende methoden is te vinden in het boek `Computational Physics` van Mark Newman (zie ook de website behorende bij het boek: http://www-personal.umich.edu/~mejn/cp/).\n",
    "\n",
    "## Notebook tips\n",
    "* Laat geen ```raise NotImplementedError()``` achter in de code! Die cel levert geen punten op.\n",
    "* Elke functie moet een ```return``` statement hebben.\n",
    "* Elke functie heeft een beschrijvende doc string. Zie ook:\n",
    "  * https://www.python.org/dev/peps/pep-0008/\n",
    "  * https://www.python.org/dev/peps/pep-0257/\n",
    "* Test je functies voordat je de notebook inlevert!\n",
    "* De cellen met TESTCELL worden gebruikt om de functies te testen! Deze kan je niet aanpassen maar wel uitvoeren! Ze mogen geen output opleveren. Doen ze dat wel dan klopt je code niet en krijg je geen punten voor die cell.\n",
    "  \n",
    "# Integraal van een functie\n",
    "Als het functievoorschrift bekend is kan de functie op verschillende manieren geintegreerd worden. De trapezium en simpson's methode worden hier uitgewerkt.\n",
    "\n",
    "## Trapezium (H5.1.1)\n",
    "Schrijf een funtie ```trapezium``` die van een willekeurige functie ```f(x)``` met behulp van de trapezium methode het oppervlak bepaalt. De functie neemt standaard ```N = 10``` intervallen en heeft integraal grenzen ```a``` en ```b```."
   ]
  },
  {
   "cell_type": "code",
   "execution_count": null,
   "metadata": {
    "deletable": false,
    "nbgrader": {
     "cell_type": "code",
     "checksum": "d7a3ea2cb9bb123f3cf582c56dc575ec",
     "grade": false,
     "grade_id": "trapezium",
     "locked": false,
     "schema_version": 3,
     "solution": true
    }
   },
   "outputs": [],
   "source": [
    "def trapezium(f, a, b, N=10):\n",
    "    '''\n",
    "        Bereken de intraal van een functie f over het interval a,b in N stappen.\n",
    "        \n",
    "        argumenten:\n",
    "        f : functie (zelf te definierern)\n",
    "        a : onderste grens van interval\n",
    "        b : bovenste grens van interval\n",
    "        \n",
    "        optionele argumenten:\n",
    "        N : aantal elementen in interval (standaard 10)\n",
    "        \n",
    "        teruggave : \n",
    "        oppervlakte onder de functie.\n",
    "    '''\n",
    "    oppervlakte = 0\n",
    "    def f(x):"
    "      return 4*x**3 - 7*x"
   
    "    a=0"
    "    b=5"
    "    N= 100"
    "    h=(b-a)/N"
    
    "    s= 0.5*f(a) + 0.5*f(b)"
    "    for k in range(1,N):"
    "      s += f(a+k*h)"
    
    "    print (h*s)"
    "    return oppervlakte\n",
    "\n",
    "\n",
    "# TEST FUNCTIES 1\n",
    "def f(x):\n",
    "    return x**4 - 2*x +1\n",
    "\n",
    "# TEST FUNCTIE 2\n",
    "def g(x):\n",
    "    return -3*x + 4"
   ]
  },
  {
   "cell_type": "code",
   "execution_count": null,
   "metadata": {
    "deletable": false,
    "editable": false,
    "nbgrader": {
     "cell_type": "code",
     "checksum": "32ddc0a003553e65cb38030321af90c5",
     "grade": true,
     "grade_id": "trapezium-1",
     "locked": true,
     "points": 1,
     "schema_version": 3,
     "solution": false
    }
   },
   "outputs": [],
   "source": [
    "# TESTCELL\n",
    "t.assert_allclose(trapezium(f, 0.0, 2.0, 100), 4.401066656, atol=1e-8) # 100 stappen\n",
    "t.assert_allclose(trapezium(f, 0.0, 2.0, 3), 5.57, atol=1e-2)          # 3 stappen\n",
    "t.assert_allclose(trapezium(f, 0.0, 2.0), 4.50656, atol=1e-2)          # N niet gegeven!\n",
    "t.assert_allclose(trapezium(g, -3.0, 3.0, N=100), 24, atol=1e-3)                  # g functie"
   ]
  },
  {
   "cell_type": "code",
   "execution_count": null,
   "metadata": {
    "deletable": false,
    "editable": false,
    "nbgrader": {
     "cell_type": "code",
     "checksum": "5128a822fe15cecb3b3721692aefe1d8",
     "grade": true,
     "grade_id": "trapezium-2",
     "locked": true,
     "points": 1,
     "schema_version": 3,
     "solution": false
    }
   },
   "outputs": [],
   "source": [
    "# TESTCELL\n",
    "t.assert_allclose(trapezium(f, 0.0, 2.0), 4.50656, atol=1e-2)          # N niet gegeven!"
   ]
  },
  {
   "cell_type": "code",
   "execution_count": null,
   "metadata": {
    "deletable": false,
    "editable": false,
    "nbgrader": {
     "cell_type": "code",
     "checksum": "bd5cd69e5c502f29083388fa8d81d165",
     "grade": true,
     "grade_id": "trapezium-3",
     "locked": true,
     "points": 1,
     "schema_version": 3,
     "solution": false
    }
   },
   "outputs": [],
   "source": [
    "# TESTCELL\n",
    "# Verborgen text! Hier kan je niet zien welke functies getest worden..."
   ]
  },
  {
   "cell_type": "markdown",
   "metadata": {
    "deletable": false,
    "editable": false,
    "nbgrader": {
     "cell_type": "markdown",
     "checksum": "8ee67981ab10710db56a0efa73759d55",
     "grade": false,
     "grade_id": "tekst-simpson",
     "locked": true,
     "schema_version": 3,
     "solution": false
    }
   },
   "source": [
    "## Simpson (H5.1.2)\n",
    "Om met dezelfde hoeveelheid integratie-stappen de precisie van de numerieke integraal te verbeteren zijn verschillende methoden bedacht. Een simpele, maar effectieve methode is de Simpson's methode. \n",
    "\n",
    "In plaats van een lineaire interpolatie zoals bij de trapezium methode wordt een parabool tussen 3 punten gefit. De som van de oppervlakten onder alle parabolen geeft dan de integraal over de hele functie. \n",
    "\n",
    "Schrijf een funtie ```simpson``` die van een willekeurige functie ```f(x)``` met behulp van de trapezium methode het oppervlak bepaalt. De functie neemt standaard 10 intervallen, en heeft integraal grenzen ```a``` en ```b```\n",
    "\n",
    "Vergeet niet de docstring waarin de input variabelen en output kort beschreven worden!\n"
   ]
  },
  {
   "cell_type": "code",
   "execution_count": null,
   "metadata": {
    "deletable": false,
    "nbgrader": {
     "cell_type": "code",
     "checksum": "eb4232a6b39990f887cd4b5a2debaf63",
     "grade": false,
     "grade_id": "simpson",
     "locked": false,
     "schema_version": 3,
     "solution": true
    }
   },
   "outputs": [],
   "source": [
    "def simpson(f, a, b, N=10):\n",
    "    if N%2 == 1: # N moet even zijn!\n",
    "        N+=1\n",
    "    # YOUR CODE HERE\n",
    "    raise NotImplementedError()\n",
    "    return oppervlakte\n",
    "    "
   ]
  },
  {
   "cell_type": "code",
   "execution_count": null,
   "metadata": {
    "deletable": false,
    "editable": false,
    "nbgrader": {
     "cell_type": "code",
     "checksum": "af8ce9dc71c2c38dc7361e92d31fa214",
     "grade": true,
     "grade_id": "simpson-1",
     "locked": true,
     "points": 1,
     "schema_version": 3,
     "solution": false
    }
   },
   "outputs": [],
   "source": [
    "# TESTCELL\n",
    "def f(x):\n",
    "    return x**4 - 2*x +1\n",
    "\n",
    "t.assert_allclose(simpson(f,0.0,2.0,100), 4.4)\n",
    "t.assert_allclose(simpson(f,0.0,2.0,99), 4.4)\n",
    "t.assert_allclose(simpson(f,0.0,2.0), 4.4004267)\n"
   ]
  },
  {
   "cell_type": "code",
   "execution_count": null,
   "metadata": {
    "deletable": false,
    "editable": false,
    "nbgrader": {
     "cell_type": "code",
     "checksum": "6d6dd90990a9bd9dc398ccbeed7921a7",
     "grade": true,
     "grade_id": "simpson-2",
     "locked": true,
     "points": 1,
     "schema_version": 3,
     "solution": false
    }
   },
   "outputs": [],
   "source": [
    "# TESTCELL Docstring\n",
    "# Is er wel een docstring gegeven?\n",
    "ds = simpson.__doc__\n",
    "if not isinstance(ds, str):\n",
    "    ds = ''\n",
    "t.assert_array_less(0,len(ds))\n"
   ]
  },
  {
   "cell_type": "code",
   "execution_count": null,
   "metadata": {
    "deletable": false,
    "editable": false,
    "nbgrader": {
     "cell_type": "code",
     "checksum": "552cabe1da4a207194936bce907e3931",
     "grade": true,
     "grade_id": "simpson-3",
     "locked": true,
     "points": 1,
     "schema_version": 3,
     "solution": false
    }
   },
   "outputs": [],
   "source": [
    "# TESTCELL Docstring - wat is de inhoud van de string?"
   ]
  },
  {
   "cell_type": "markdown",
   "metadata": {
    "deletable": false,
    "editable": false,
    "nbgrader": {
     "cell_type": "markdown",
     "checksum": "7231e4de9962bfffcf47d45b661fe4aa",
     "grade": false,
     "grade_id": "data",
     "locked": true,
     "schema_version": 3,
     "solution": false
    }
   },
   "source": [
    "# Integraal van data\n",
    "Schrijf zelf een functie die voor een gemeten signaal op verschillende tijdstappen de integraal over een tijds-gebied bepaalt. Er is nu geen functievoorschrift meer aanwezig. Alleen de meetpunten.\n",
    "\n",
    "Als je bijvoorbeeld elke seconde de versnelling meet moet de functie bij een gegeven dataset de snelheid (op elk tijdstip) teruggeven. Eerst moet de data ingelezen worden. \n",
    "\n",
    "Maak gebruik van de ```velocities.txt``` file van Newman (opdracht 5.1, blz 143) Plaats deze file in dezelfde directory als waar dit Jupyter Notebook staat. Laad de data in numpy arrays ```time``` en ```vel``` voor de tijd en snelheid respectievelijk. "
   ]
  },
  {
   "cell_type": "code",
   "execution_count": null,
   "metadata": {
    "deletable": false,
    "nbgrader": {
     "cell_type": "code",
     "checksum": "e07ecd07a74a10888917683afa087205",
     "grade": false,
     "grade_id": "data-inlezen",
     "locked": false,
     "schema_version": 3,
     "solution": true
    }
   },
   "outputs": [],
   "source": [
    "# import data\n",
    "# time = \n",
    "# vel = \n",
    "\n",
    "# YOUR CODE HERE\n",
    "raise NotImplementedError()"
   ]
  },
  {
   "cell_type": "code",
   "execution_count": null,
   "metadata": {
    "deletable": false,
    "editable": false,
    "nbgrader": {
     "cell_type": "code",
     "checksum": "5a4c6245af1451e8eadea619f2c46586",
     "grade": true,
     "grade_id": "data-inlezen-1",
     "locked": true,
     "points": 1,
     "schema_version": 3,
     "solution": false
    }
   },
   "outputs": [],
   "source": [
    "# TESTCELL is het inlezen goed gegaan?\n",
    "# Zorg ervoor dat onderstaande statements goed werken. Het gemiddelde van de `time` en `vel` arrays moet te berekenen zijn!\n",
    "\n",
    "plt.figure()\n",
    "plt.plot(time, vel)\n",
    "t.assert_allclose(vel.mean(), 0.083045, atol=1e-5)\n",
    "t.assert_allclose(len(vel), 101)\n",
    "t.assert_allclose(time.std(), 29.1547595, atol=1e-5)\n",
    "t.assert_allclose(len(time), 101)"
   ]
  },
  {
   "cell_type": "markdown",
   "metadata": {
    "deletable": false,
    "editable": false,
    "nbgrader": {
     "cell_type": "markdown",
     "checksum": "424caa2d1b4cfe5f176f5c2752b7ae05",
     "grade": false,
     "grade_id": "data-integraal",
     "locked": true,
     "schema_version": 3,
     "solution": false
    }
   },
   "source": [
    "Maak een functie ```trap_data``` met als argumenten ```t``` en ```x``` die een numpy array ```xprime``` met lengte ```len(x)```, met voor elke tijdstap de integraal tot dat punt teruggeeft. Het eerste element in de array ```xprime``` is 0.  Als ```x``` de snelheid van een deeltje voorsteld dan geeft de functie de positie op elk tijdstip terug.\n",
    "Geef ook hier weer een beschrijvende doc-string!"
   ]
  },
  {
   "cell_type": "code",
   "execution_count": null,
   "metadata": {
    "deletable": false,
    "nbgrader": {
     "cell_type": "code",
     "checksum": "637c7ec194a46a617faa7d939ee68310",
     "grade": false,
     "grade_id": "data-integral-1",
     "locked": false,
     "schema_version": 3,
     "solution": true
    }
   },
   "outputs": [],
   "source": [
    "def trap_data(t,x):\n",
    "    # YOUR CODE HERE\n",
    "    raise NotImplementedError()\n",
    "    return xprime"
   ]
  },
  {
   "cell_type": "code",
   "execution_count": null,
   "metadata": {
    "deletable": false,
    "editable": false,
    "nbgrader": {
     "cell_type": "code",
     "checksum": "0e0d1c6a83b84aa5ce410ad2bbb40f84",
     "grade": true,
     "grade_id": "data-integral-2",
     "locked": true,
     "points": 1,
     "schema_version": 3,
     "solution": false
    }
   },
   "outputs": [],
   "source": [
    "# TESTCELL\n",
    "# integreer de volgende dataset:\n",
    "plt.figure()\n",
    "plt.plot(range(5), np.ones(5))\n",
    "t.assert_allclose(range(5), trap_data(range(5),np.ones(5)).tolist())"
   ]
  },
  {
   "cell_type": "code",
   "execution_count": null,
   "metadata": {
    "deletable": false,
    "editable": false,
    "nbgrader": {
     "cell_type": "code",
     "checksum": "a3e073406303fc8e3cfe6d0a721ead49",
     "grade": true,
     "grade_id": "data-integral3",
     "locked": true,
     "points": 1,
     "schema_version": 3,
     "solution": false
    }
   },
   "outputs": [],
   "source": [
    "# TESTCELL\n",
    "# integreer de volgende dataset:\n",
    "plt.figure()\n",
    "plt.plot(time, trap_data(time,vel))\n",
    "distance = np.array([ 0.       ,  0.034739 ,  0.138325 ,  0.309338 ,  0.5460455,\n",
    "        0.846415 ,  1.2081285,  1.6285975,  2.10498  ,  2.6341965,\n",
    "        3.212949 ,  3.83774  ,  4.504892 ,  5.2105685,  5.9507945,\n",
    "        6.721478 ,  7.518432 ,  8.3373965,  9.174059 , 10.024077 ,\n",
    "       10.8831005, 11.7467925, 12.610851 , 13.471029 , 14.3231545,\n",
    "       15.163151 , 15.987055 , 16.7910345, 17.571406 , 18.324651 ,\n",
    "       19.047431 , 19.7366005, 20.389221 , 21.0025725, 21.574164 ,\n",
    "       22.1017425, 22.5833005, 23.017083 , 23.4015935, 23.735597 ,\n",
    "       24.018122 , 24.2484635, 24.426182 , 24.5511015, 24.6233085,\n",
    "       24.643147 , 24.611213 , 24.528349 , 24.395636 , 24.2143855,\n",
    "       23.9861305, 23.7126145, 23.39578  , 23.037756 , 22.6408455,\n",
    "       22.2075125, 21.740367 , 21.24215  , 20.7157195, 20.1640335,\n",
    "       19.590135 , 18.997136 , 18.3882005, 17.7665295, 17.135344 ,\n",
    "       16.497869 , 15.8573175, 15.216875 , 14.579684 , 13.94883  ,\n",
    "       13.3273265, 12.718101 , 12.123982 , 11.547686 , 10.9918065,\n",
    "       10.458802 ,  9.9509865,  9.47052  ,  9.019399 ,  8.5994495,\n",
    "        8.21232  ,  7.8594765,  7.5421975,  7.26157  ,  7.018486 ,\n",
    "        6.8136415,  6.647536 ,  6.520472 ,  6.4325565,  6.383702 ,\n",
    "        6.3736305,  6.401878 ,  6.467799 ,  6.570571 ,  6.709201 ,\n",
    "        6.8825335,  7.0892575,  7.327916 ,  7.5969145,  7.8945305,\n",
    "        8.218924 ])\n",
    "t.assert_allclose(trap_data(time, vel), distance, atol=1e-4)"
   ]
  },
  {
   "cell_type": "markdown",
   "metadata": {
    "deletable": false,
    "editable": false,
    "nbgrader": {
     "cell_type": "markdown",
     "checksum": "bbc420478c68d7cc8a1afa249e186a0d",
     "grade": false,
     "grade_id": "data-onnauwkeurigheid",
     "locked": true,
     "schema_version": 3,
     "solution": false
    }
   },
   "source": [
    "# Onnauwkeurigheid in de integraal (H5.2)\n",
    "De onnauwkeurigheid van de uitkomst van de numerieke integraal is afhankelijk van het aantal segmenten, maar ook van de gebruikte hardware. Op een gegeven moment maakt de onnauwkeurigheid door afronding het niet meer mogelijk een betere benadering van de analytische oplossing te behalen. \n",
    "\n",
    "Hoofdstuk 5.2.1 van Newman geeft een afleiding voor het bepalen van de fout in de berekening voor de Trapezium en de Simpson's methode. De fout in de berekening wordt hier gezien als de verandering in de uitkomst door het aantal integratie-stappen te verdubbelelen. Als je voldoende intervallen kiest komt je antwoord steeds dichter bij de analytische oplossing te liggen.\n",
    "\n",
    "Maak een functie ```trap_error``` die de fout in de berekening met de trapezium methode teruggeeft voor een willekeurige functie ```f``` over het interval van ```a``` tot ```b``` met ```N``` en ```2N``` segmenten.\n"
   ]
  },
  {
   "cell_type": "code",
   "execution_count": null,
   "metadata": {
    "deletable": false,
    "nbgrader": {
     "cell_type": "code",
     "checksum": "3b63b590d686a4b64b2ced41c369eaec",
     "grade": false,
     "grade_id": "onnauwkeurigheid-trap",
     "locked": false,
     "schema_version": 3,
     "solution": true
    }
   },
   "outputs": [],
   "source": [
    "def trap_error(f, a, b, N):\n",
    "    error = 0\n",
    "    # YOUR CODE HERE\n",
    "    raise NotImplementedError()\n",
    "    return error"
   ]
  },
  {
   "cell_type": "code",
   "execution_count": null,
   "metadata": {
    "deletable": false,
    "editable": false,
    "nbgrader": {
     "cell_type": "code",
     "checksum": "4076a373bb83095f080afb2cd5756d87",
     "grade": true,
     "grade_id": "onnauwkeurigheid-1",
     "locked": true,
     "points": 1,
     "schema_version": 3,
     "solution": false
    }
   },
   "outputs": [],
   "source": [
    "# TESTCELL\n",
    "def f(x):\n",
    "    return x**4 - 2*x +1\n",
    "t.assert_allclose(trap_error(f, 0, 2, 10), 0.02663333, atol=1e-4)\n",
    "\n"
   ]
  },
  {
   "cell_type": "code",
   "execution_count": null,
   "metadata": {
    "deletable": false,
    "editable": false,
    "nbgrader": {
     "cell_type": "code",
     "checksum": "cd3fa522b4a9689ad8b91bd2a476fadc",
     "grade": true,
     "grade_id": "onnauwkeurigheid-2",
     "locked": true,
     "points": 1,
     "schema_version": 3,
     "solution": false
    }
   },
   "outputs": [],
   "source": [
    "# TESTCELL\n",
    "# Nu is de te testen functie niet zichtbaar!"
   ]
  },
  {
   "cell_type": "code",
   "execution_count": null,
   "metadata": {
    "deletable": false,
    "editable": false,
    "nbgrader": {
     "cell_type": "code",
     "checksum": "3011bea254982ad5129e554b2ff72b97",
     "grade": true,
     "grade_id": "onnauwkeurigheid-3",
     "locked": true,
     "points": 1,
     "schema_version": 3,
     "solution": false
    }
   },
   "outputs": [],
   "source": [
    "# TESTCELL\n",
    "# test met exponential als functie!\n",
    "from numpy import exp\n",
    "def g(x):\n",
    "    return exp(exp(x))\n",
    "\n",
    "t.assert_allclose(trap_error(g, 0, 1, 10), 0.00798690, atol=1e-5)\n",
    "t.assert_allclose(trap_error(g, 0, 1, 20), 0.00200211, atol=1e-5)"
   ]
  },
  {
   "cell_type": "markdown",
   "metadata": {
    "deletable": false,
    "editable": false,
    "nbgrader": {
     "cell_type": "markdown",
     "checksum": "26d6a7eba628bf3c6bab22a52619d2a5",
     "grade": false,
     "grade_id": "data-integraal-onnauwkeurigheid-tekst",
     "locked": true,
     "schema_version": 3,
     "solution": false
    }
   },
   "source": [
    "# Onnauwkeurigheid bij data integreren\n",
    "\n",
    "De meest waarschijnlijke onnauwkeurigheid (zie ook het Onnauwkeurigheidsanalyse document van Onderzoeken 1) voor een integraal over een dataset is te berekenen door de integraal als som te schrijven:\n",
    "$$ S = \\int_a^b f(t) = \\sum_{i=0}^N \\frac{1}{2} \\left(f(t_{i+1}) + f(t_i)\\right)\\cdot \\left(t_{i+1} - t_i \\right) $$\n",
    "Om het schrijfwerk te minimaliseren is:\n",
    "$$ y_i = \\frac{1}{2} \\left(f(t_{i+1}) + f(t_i)\\right) $$ \n",
    "$$ x_i = \\left(t_{i+1} - t_i \\right) $$\n",
    "het oppervlak $S$ is dan te schrijven als\n",
    "$$S = \\sum_{i=0}^N y_i\\cdot x_i  = \\sum_{i=0}^N S_i$$ \n",
    "\n",
    "Alleen de rekenregels voor de foutenpropagatie van een som en product zijn dan nodig. \n",
    "De onnauwkeurigheid in een enkele term van de sommatie is dan:\n",
    "$$y_i = \\frac{1}{2}\\left(f(t_{i+1}) + f(t_i)\\right) \\rightarrow \\frac{1}{2}\\sqrt{(\\delta f(t_{i+1}))^2 + (\\delta f(t_i))^2} = \\delta_y$$\n",
    "$$ x_i = \\left(t_{i+1} - t_i \\right) \\rightarrow \\sqrt{(\\delta t_{i+1})^2 + (\\delta t_i)^2} = \\delta_x.$$\n",
    "\n",
    "Het product van deze twee onnauwkeurigheden geeft de onnauwkeurigheid van 1 van de rechthoeken van de Rieman som van de integraal, ($S_i$):\n",
    "$$\\delta S_i = |x_i \\cdot y_i | \\cdot \\sqrt{\\left(\\frac{\\delta_{y_i}}{y_i}\\right)^2 + \\left(\\frac{\\delta_{x_i}}{x_i}\\right)^2}.$$\n",
    "\n",
    "Door alle deel-oppervlakken samen te nemen is de uiteindelijke onnauwkeurigheid in de integraal\n",
    "$$\\delta S = \\sqrt{\\sum_{i=0}^N \\left(\\delta S_i\\right)^2}.$$\n",
    "\n",
    "Met de aanname dat alle onnauwkeurigheden onafhankelijk zijn!\n",
    "\n",
    "Maak een functie ```trap_error``` met als input argumenten ```x```, ```y```, ```xerr``` en ```yerr``` waar alle input argumenten lijsten (arrays) zijn met dezelfde lengte. De functie geeft het oppervlak onder de grafiek $y=f(x)$ met de meest waarschijnlijke onnauwkeurigheid terug. \n"
   ]
  },
  {
   "cell_type": "code",
   "execution_count": null,
   "metadata": {
    "deletable": false,
    "nbgrader": {
     "cell_type": "code",
     "checksum": "6e62e4807a8aa30facd0ba49dc6a6442",
     "grade": false,
     "grade_id": "data-integraal-onnauwkeurigheid",
     "locked": false,
     "schema_version": 3,
     "solution": true
    }
   },
   "outputs": [],
   "source": [
    "def trap_error(x,y,xerr,yerr):\n",
    "    # YOUR CODE HERE\n",
    "    raise NotImplementedError()\n",
    "    return opp, opp_err"
   ]
  },
  {
   "cell_type": "code",
   "execution_count": null,
   "metadata": {
    "deletable": false,
    "editable": false,
    "nbgrader": {
     "cell_type": "code",
     "checksum": "d96c4c1752e2b9b2fb9064bcc3f297ba",
     "grade": true,
     "grade_id": "data-integraal-onnauwkeurigheid-1",
     "locked": true,
     "points": 1,
     "schema_version": 3,
     "solution": false
    }
   },
   "outputs": [],
   "source": [
    "# TESTCELL minimale integraal, 2 data-punten! Reken dit voorbeeld ook met de hand na.\n",
    "x = np.array([0,10])\n",
    "y = np.array([10,10])\n",
    "xerr = [0.1, 0.1]\n",
    "yerr = [0.3, 0.3]\n",
    "\n",
    "t.assert_allclose(trap_error(x,y,xerr,yerr),[100,2.54951])"
   ]
  },
  {
   "cell_type": "code",
   "execution_count": null,
   "metadata": {
    "deletable": false,
    "editable": false,
    "nbgrader": {
     "cell_type": "code",
     "checksum": "2a297c1e103eac1368a6b7cb58049978",
     "grade": true,
     "grade_id": "data-integraal-onnauwkeurigheid-2",
     "locked": true,
     "points": 1,
     "schema_version": 3,
     "solution": false
    }
   },
   "outputs": [],
   "source": [
    "# TESTCELL Uitgebreide dataset\n",
    "time = np.array([0,1,2,3,4,5,6,7,8,9,10,11,12,13,14,15,16,17,18,19,20,21,22,23,24,25,26,27,28,29,30,31,32,33,34,35,36,37,38,39,40,41,42,43,44,45,46,47,48,49,50,51,52,53,54,55,56,57,58,59,60,61,62,63,64,65,66,67,68,69,70,71,72,73,74,75,76,77,78,79,80,81,82,83,84,85,86,87,88,89,90,91,92,93,94,95,96,97,98,99,100])\n",
    "vel = np.array([0,0.069478,0.137694,0.204332,0.269083,0.331656,0.391771,0.449167,0.503598,0.554835,0.602670,0.646912,0.687392,0.723961,0.756491,0.784876,0.809032,0.828897,0.844428,0.855608,0.862439,0.864945,0.863172,0.857184,0.847067,0.832926,0.814882,0.793077,0.767666,0.738824,0.706736,0.671603,0.633638,0.593065,0.550118,0.505039,0.458077,0.409488,0.359533,0.308474,0.256576,0.204107,0.151330,0.098509,0.045905,-0.006228,-0.057640,-0.108088,-0.157338,-0.205163,-0.251347,-0.295685,-0.337984,-0.378064,-0.415757,-0.450909,-0.483382,-0.513052,-0.539809,-0.563563,-0.584234,-0.601764,-0.616107,-0.627235,-0.635136,-0.639814,-0.641289,-0.639596,-0.634786,-0.626922,-0.616085,-0.602366,-0.585872,-0.566720,-0.545039,-0.520970,-0.494661,-0.466272,-0.435970,-0.403929,-0.370330,-0.335357,-0.299201,-0.262054,-0.224114,-0.185575,-0.146636,-0.107492,-0.068339,-0.029370,0.009227,0.047268,0.084574,0.120970,0.156290,0.190375,0.223073,0.254244,0.283753,0.311479,0.337308])\n",
    "vel_err = np.zeros(len(time))+0.1 # constante meetfout\n",
    "time_err = np.zeros(len(time))+0.1 # constante meetfout\n",
    "\n",
    "# Hoe ziet de data er uit?\n",
    "plt.figure()\n",
    "plt.errorbar(time,vel, xerr=time_err, yerr=vel_err)\n",
    "\n",
    "t.assert_allclose(trap_error(time,vel,time_err,vel_err),[8.218924,1.01323718])\n"
   ]
  },
  {
   "cell_type": "code",
   "execution_count": null,
   "metadata": {
    "deletable": false,
    "editable": false,
    "nbgrader": {
     "cell_type": "code",
     "checksum": "44be005948dbc78c54ead324125e44d6",
     "grade": true,
     "grade_id": "data-integraal-onnauwkeurigheid-3",
     "locked": true,
     "points": 1,
     "schema_version": 3,
     "solution": false
    }
   },
   "outputs": [],
   "source": [
    "# TESTCELL\n",
    "# zijn er docstrings?\n",
    "ds = trap_error.__doc__\n",
    "if not isinstance(ds, str):\n",
    "    ds = ''\n",
    "t.assert_array_less(0,len(ds))\n"
   ]
  },
  {
   "cell_type": "markdown",
   "metadata": {
    "deletable": false,
    "editable": false,
    "nbgrader": {
     "cell_type": "markdown",
     "checksum": "07adbb7b19338041dc082e01de71add1",
     "grade": false,
     "grade_id": "data-integraal-array-tekst",
     "locked": true,
     "schema_version": 3,
     "solution": false
    }
   },
   "source": [
    "# Meerdere keren integreren\n",
    "Om van de gemeten versnelling met de RaspberryPi naar de afstand (hoogte) te gaan moet er twee keer geintegreerd worden. \n",
    "Met de vorige functie waar de onnauwkeurigheid van de hele integraal uitgerekend wordt is het niet mogelijk de onnauwkeurigheid in de berekende snelheid mee te nemen voor de berekening van de afstand. \n",
    "\n",
    "Om dit op te lossen moet de functie ```trap_error``` uitgebreid worden naar ```trap_error_array```. Deze functie heeft dezelfde input argumenten als  ```trap_error```, maar geeft nu 2 arrays terug: een array met de oppervlaktes tot en met tijdstip ```t_i``` met de bijbehorende meest waarschijnlijke onnauwkeurigheid. \n",
    "\n",
    "In de bij de functie behorende docstring moet duidelijk aangegeven worden dat deze functie een ```array``` teruggeeft!"
   ]
  },
  {
   "cell_type": "code",
   "execution_count": null,
   "metadata": {
    "deletable": false,
    "nbgrader": {
     "cell_type": "code",
     "checksum": "60d83c6408af7a12a51a46da53730b36",
     "grade": false,
     "grade_id": "data-integraal-array",
     "locked": false,
     "schema_version": 3,
     "solution": true
    }
   },
   "outputs": [],
   "source": [
    "def trap_error_array(x,y,xerr,yerr):\n",
    "    # YOUR CODE HERE\n",
    "    raise NotImplementedError()\n",
    "    return opp, opp_err"
   ]
  },
  {
   "cell_type": "code",
   "execution_count": null,
   "metadata": {
    "deletable": false,
    "editable": false,
    "nbgrader": {
     "cell_type": "code",
     "checksum": "5dee46168f98d08f00b9ede10ba822a2",
     "grade": true,
     "grade_id": "data-integraal-array-1",
     "locked": true,
     "points": 1,
     "schema_version": 3,
     "solution": false
    }
   },
   "outputs": [],
   "source": [
    "# TESTCELL\n",
    "x = np.arange(11)\n",
    "y = np.ones(11)*3\n",
    "xerr = np.ones(11)*0+0.001\n",
    "yerr = np.ones(11)*0+0.3\n",
    "output = (np.array([0., 3., 6., 9., 12., 15., 18., 21., 24., 27., 30.]),\\\n",
    "         np.array([0., 0.21217446, 0.30005999, 0.36749694, 0.42434891, 0.47443651, 0.51971915, \n",
    "                0.56136085, 0.60011999, 0.63652337, 0.67095454]))\n",
    "t.assert_allclose(trap_error_array(x,y,xerr,yerr),output, atol=1e-4)"
   ]
  },
  {
   "cell_type": "code",
   "execution_count": null,
   "metadata": {
    "deletable": false,
    "editable": false,
    "nbgrader": {
     "cell_type": "code",
     "checksum": "bb0c48829b0c0ab5166bab2d394e83b4",
     "grade": true,
     "grade_id": "data-integraal-array-2",
     "locked": true,
     "points": 1,
     "schema_version": 3,
     "solution": false
    }
   },
   "outputs": [],
   "source": [
    "# TESTCELL\n",
    "# zijn er docstrings?\n",
    "ds = trap_error_array.__doc__\n",
    "if not isinstance(ds, str):\n",
    "    ds = ''\n",
    "t.assert_array_less(0,len(ds))\n",
    "\n"
   ]
  },
  {
   "cell_type": "code",
   "execution_count": null,
   "metadata": {
    "deletable": false,
    "editable": false,
    "nbgrader": {
     "cell_type": "code",
     "checksum": "1c2807af7336c8da154b6da45443fcda",
     "grade": true,
     "grade_id": "data-integral-array-2",
     "locked": true,
     "points": 1,
     "schema_version": 3,
     "solution": false
    }
   },
   "outputs": [],
   "source": [
    "# TESTCELL Docstring - wat is de inhoud van de string?"
   ]
  },
  {
   "cell_type": "markdown",
   "metadata": {
    "deletable": false,
    "editable": false,
    "nbgrader": {
     "cell_type": "markdown",
     "checksum": "a4049019f46e954151caf8bf73678e09",
     "grade": false,
     "grade_id": "afhankelijkheid",
     "locked": true,
     "schema_version": 3,
     "solution": false
    }
   },
   "source": [
    "# Afhankelijke fouten\n",
    "Bij het integreren is gebruik gemaakt van de aanname dat de gemeten onnauwkeurigheid onafhankelijk voor alle punten is. Maar bij het integreren gebruik je de rechter waarde van een interval als linker waarde voor de volgende stap. Deze fouten zijn dus niet onafhankelijk, de meetdata is gecorreleerd. \n",
    "\n",
    "De in bovenstaande functies berekende meetonnauwkeurigheid zal dus te klein zijn. Om een schatting te krijgen van de te verwachten meetonnauwkeurigheid kan het algoritme opnieuw ontwikkeld worden met de verandering dat bij het optellen van de deel-rechthoeken, $S_i$, de fout absoluut opgeteld wordt:\n",
    "$$\\delta S = \\sum_{i=0}^N |\\left(\\delta S_i\\right)|.$$\n",
    "\n",
    "Schrijf een nieuwe functie `trap_error_array_cor` die de deel-rechthoeken als absolute fout mee neemt in de berekening. Let ook hier weer op de doc-strings!"
   ]
  },
  {
   "cell_type": "code",
   "execution_count": null,
   "metadata": {
    "deletable": false,
    "nbgrader": {
     "cell_type": "code",
     "checksum": "59a6f3ea0c363c878a4bca0603989a85",
     "grade": false,
     "grade_id": "afhankelijkheid-implementatie",
     "locked": false,
     "schema_version": 3,
     "solution": true
    }
   },
   "outputs": [],
   "source": [
    "def trap_error_array_cor(x,y,xerr,yerr):\n",
    "    # YOUR CODE HERE\n",
    "    raise NotImplementedError()\n",
    "    return opp, opp_err"
   ]
  },
  {
   "cell_type": "code",
   "execution_count": null,
   "metadata": {
    "deletable": false,
    "editable": false,
    "nbgrader": {
     "cell_type": "code",
     "checksum": "93530444193ae642b71533072d8d984a",
     "grade": true,
     "grade_id": "afhankelijkheid-implementatie-1",
     "locked": true,
     "points": 1,
     "schema_version": 3,
     "solution": false
    }
   },
   "outputs": [],
   "source": [
    "# TESTCELL\n",
    "x = np.arange(11)\n",
    "y = np.ones(11)*3\n",
    "xerr = np.ones(11)*0+0.001\n",
    "yerr = np.ones(11)*0+0.3\n",
    "output = np.array([[ 0.      ,  3.      ,  6.      ,  9.      , 12.      , 15.      ,\n",
    "        18.      , 21.      , 24.      , 27.      , 30.      ],\n",
    "       [ 0.      ,  0.212174,  0.424349,  0.636523,  0.848698,  1.060872,\n",
    "         1.273047,  1.485221,  1.697396,  1.90957 ,  2.121745]])\n",
    "t.assert_allclose(trap_error_array_cor(x,y,xerr,yerr),output, atol=1e-5)"
   ]
  },
  {
   "cell_type": "code",
   "execution_count": null,
   "metadata": {
    "deletable": false,
    "editable": false,
    "nbgrader": {
     "cell_type": "code",
     "checksum": "d8a2b2b8ec8c4a5b9cf20bd034ede939",
     "grade": true,
     "grade_id": "afhankelijkheid-implementatie-2",
     "locked": true,
     "points": 1,
     "schema_version": 3,
     "solution": false
    }
   },
   "outputs": [],
   "source": [
    "# TESTCELL Docstring - wat is de inhoud van de string?"
   ]
  },
  {
   "cell_type": "markdown",
   "metadata": {
    "deletable": false,
    "editable": false,
    "nbgrader": {
     "cell_type": "markdown",
     "checksum": "2c40e5c3a977a88e59cadc85f5b5b282",
     "grade": false,
     "grade_id": "conclusie",
     "locked": true,
     "schema_version": 3,
     "solution": false
    }
   },
   "source": [
    "De onnauwkeurigheid van de integraal is op twee manieren berekend. Door de metingen meerdere keren te herhalen is de standaardafwijking van de gemiddelde waarde ($\\sigma$) te bepalen. Welke van de 2 implementaties komt het beste overeen met de gemeten standaardafwijking? Wat kan je hierdoor zeggen over de afhankelijkheid van de meetonnauwkeurigheid in je data?"
   ]
  },
  {
   "cell_type": "code",
   "execution_count": null,
   "metadata": {},
   "outputs": [],
   "source": []
  }
 ],
 "metadata": {
  "kernelspec": {
   "display_name": "Python 3",
   "language": "python",
   "name": "python3"
  },
  "language_info": {
   "codemirror_mode": {
    "name": "ipython",
    "version": 3
   },
   "file_extension": ".py",
   "mimetype": "text/x-python",
   "name": "python",
   "nbconvert_exporter": "python",
   "pygments_lexer": "ipython3",
   "version": "3.7.3"
  }
 },
 "nbformat": 4,
 "nbformat_minor": 2
}
