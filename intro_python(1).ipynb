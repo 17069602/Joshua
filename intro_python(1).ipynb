{
 "cells": [
  {
   "cell_type": "markdown",
   "metadata": {},
   "source": [
    "# Modelleren - Computational Physics\n",
    "\n",
    "Met behulp van de computer is het mogelijk om wis- en natuurkundige problemen op te lossen die anders teveel tijd kosten, of niet oplosbaar zijn. Computational physics zit op het snijvlak van de natuur-, wis-, en computerkunde. Van alle deze vakgebieken is het noodzakelijk begrip te hebben om de computer efficient in je eigen vakgebied in te kunnen zetten. Zie ook [Computational physics](https://en.wikipedia.org/wiki/Computational_physics).\n",
    "\n",
    "Tijdens dit vak ga je aan de slag met Jupyter werkbladen. Deze werkbladen bevatten toelichtingen en opdrachten. De opdrachten zijn er in twee varianten: \n",
    " * basis\n",
    " * uitdagend.\n",
    " \n",
    "De opdrachten hebben de volgende visuele kenmerken:\n",
    "\n",
    "<div class=\"alert alert-block alert-info\"> Opgave N </div>\n",
    "\n",
    " * dit is een (blauwe) basis opdracht.\n",
    "\n",
    "<div class=\"alert alert-block alert-success\"> Opgave N+1 </div>\n",
    "\n",
    " * dit is een (groene) uitdagende opdracht.\n",
    "\n",
    "\n",
    " \n",
    "Je hebt tijdens dit vak zelf de mogelijkheid om de uitdaging op te zoeken! De docenten zijn er om je hierin te ondersteunen, niet om je door de stof heen te duwen. Code die je schrijft tijdens deze lessen kan ook in je verder carierre van pas komen. Zorg dus altijd voor commentaar van je code en toelichtingen. Het kan hierbij helpen je code in bijvoorbeeld [github.com](https://github.com/) onder te brengen. \n",
    "\n",
    "\n",
    "# Python modules\n",
    "\n",
    "Om gebruik te maken van de verschillende python modules moet je ze wel kennen. In deze opdrachten ga je zelf verschillende modules onderzoeken.\n",
    "\n",
    "## matplotlib en numpy\n",
    "\n",
    "Met numpy kan je op een eenvoudige manier lijsten met data genereren. Met `arange`,  `linspace` of `logspace` krijg je een array terug met daarin de datapunten die je nodig hebt. \n",
    "\n",
    "<div class=\"alert alert-block alert-info\"> Opgave 1 </div>\n",
    " \n",
    " * Maak met behulp van numpy een lijst met alle even getallen tussen de 0 en 25.\n",
    " * Maak met behulp van numpy een lijst met 10 getallen tussen de 1 en 3."
   ]
  },
  {
   "cell_type": "code",
   "execution_count": null,
   "metadata": {},
   "outputs": [],
   "source": [
    "# vul hier je code in "
   ]
  },
  {
   "cell_type": "markdown",
   "metadata": {},
   "source": [
    "Door de lijst met getallen als x-waarden voor een functie te zien kan je zelf spelen met het aantal punten die je wil weergeven als er een functie voorschrift aanwezig is. Als je functie $f(x) = \\cos(\\sin(x))$ is, zou je dat in python zo weer kunnen geven:\n",
    "\n",
    "\n",
    "\n"
   ]
  },
  {
   "cell_type": "code",
   "execution_count": 22,
   "metadata": {},
   "outputs": [],
   "source": [
    "import numpy as np\n",
    "\n",
    "\n",
    "def f(x):\n",
    "    ''' functie volgens voorschrift'''\n",
    "    return np.cos(np.sin(x*np.pi/180))"
   ]
  },
  {
   "cell_type": "markdown",
   "metadata": {},
   "source": [
    "<div class=\"alert alert-block alert-info\"> Opgave 2 </div>\n",
    "\n",
    " * Maak figuren met daarin  geplot de functie f(x) met de volgende waarden voor x:\n",
    "        * 10 punten tussen de 0 en 1 (0 en 1 inclusief)\n",
    "        * 937 punten tussen de 0 en 1 (0 en 1 inclusief)\n",
    "        * 850 punten tussen de 0 en 20 (0 en 20 inclusief)\n",
    "        * 10 punten tussen de $10^{-3}$ en $10^{9}$ (maak gebruik van een logaritmische x-as). \n",
    "        "
   ]
  },
  {
   "cell_type": "code",
   "execution_count": 21,
   "metadata": {},
   "outputs": [],
   "source": [
    "import matplotlib.pyplot as plt\n",
    "# voor mooie figuren in jupyter\n",
    "%matplotlib notebook \n",
    "\n",
    "\n",
    "# vul hier je code in"
   ]
  },
  {
   "cell_type": "markdown",
   "metadata": {},
   "source": [
    "### Werken met data\n",
    "Je hebt 4 seconden gemeten in een lift die met een constante versnelling beweegt. Je meetdata zijn de tijd ($t$), snelheid ($v$) en meetonnauwkeurigheid in de snelheid ($v_{err}$) in de richting van de lift. In onderstaande python-cell is de data gegeven (de data wordt gemaakt door de functie random. De arrays die hiermee gevuld worden gebruik je voor je opdrachten. \n",
    "\n",
    "<div class=\"alert alert-block alert-info\"> Opgave 3 </div>\n",
    "\n",
    "  *  Maak een functie die voor elke tijd de snelheid weergeeft bij een constant versnellend object.  Het input argument voor de tijd kan een getal (float), maar ook een ndarray zijn. \n",
    "  *  Maak 1 figuur met daarin 2 subplots. In het bovenste figuur staat de snelheid op de gemeten tijden (met de meetonnauwkeurigheid) weergegeven. Daarnaast is het theoretische verband voor de snelheid op elke tijd weergegeven met een rode lijn. In het onderste figuur staat het verschil van de theoretische waarde minus de gemeten waarde, een [residu plot](https://stattrek.com/statistics/dictionary.aspx?definition=residual%20plot).\n"
   ]
  },
  {
   "cell_type": "code",
   "execution_count": 2,
   "metadata": {},
   "outputs": [],
   "source": [
    "import numpy as np\n",
    "import matplotlib.pyplot as plt\n",
    "%matplotlib notebook\n",
    "\n",
    "def random(a=-1,b=1,size=None):\n",
    "    ''' Geeft een random getal terug in het interval [a,b)\n",
    "    \n",
    "        argumenten:\n",
    "            a: linker grens interval (inclusief)\n",
    "            b: rechter grens interval (exclusief)\n",
    "            size: vorm van ndarray, bij None een enkele float\n",
    "            \n",
    "        teruggave:\n",
    "            enkele float of ndarray met random getallen.\n",
    "    '''\n",
    "    return (b-a)*np.random.random(size)+a\n",
    "    \n",
    "# tijdstip waarop gemeten is\n",
    "t = np.linspace(0,4,9)\n",
    "\n",
    "# theoretische offset\n",
    "offset = 1+random()\n",
    "# theoretische helling\n",
    "helling = random()*3\n",
    "\n",
    "# gemeten snelheid\n",
    "v = offset+t*helling + random(size=len(t))/2\n",
    "\n",
    "# error in snelheid\n",
    "v_err = random(a=min(v),b=max(v),size=len(t))/5\n",
    "\n",
    "## rest van de code \n"
   ]
  },
  {
   "cell_type": "markdown",
   "metadata": {},
   "source": [
    "<div class=\"alert alert-block alert-info\"> Opgave 4 </div>\n",
    "\n",
    "* Werk het voorbeeld op bladzijde 109 van Newmann zelf uit. \n",
    "* Pas het figuur aan voor 2 bronnen, waarbij een van de bronnen een 2x zo hoge amplitude heeft als de andere.\n",
    "* Maak een dwarsdoorsnede op een bepaalde hoogte (langs de y-as) door het figuur. Maak een nieuw figuur met de dwarsdoorsnede als lijn geplot. Kloppen de minima's en maxima's die je hier in terug ziet?"
   ]
  },
  {
   "cell_type": "code",
   "execution_count": 3,
   "metadata": {},
   "outputs": [],
   "source": [
    "# vul hier je code in"
   ]
  },
  {
   "cell_type": "markdown",
   "metadata": {},
   "source": [
    "<div class=\"alert alert-block alert-success\"> Opgave 5 </div>\n",
    "\n",
    "* Maak een animatie van een lopende golf $y(x,t) = \\sin(kx-\\omega t) $ met behulp van de ```animate``` functie uit matplotlib. Voor inspiratie:\n",
    "  * [unchained](https://matplotlib.org/gallery/animation/unchained.html)\n",
    "  * [regen](https://matplotlib.org/gallery/animation/rain.html)\n",
    "  * [double pendulum](https://matplotlib.org/gallery/animation/double_pendulum_sgskip.html)\n",
    "  "
   ]
  },
  {
   "cell_type": "code",
   "execution_count": 4,
   "metadata": {},
   "outputs": [],
   "source": [
    "# vul hier je code in"
   ]
  },
  {
   "cell_type": "markdown",
   "metadata": {},
   "source": [
    "\n",
    "## sympy\n",
    "\n",
    "Met sympy kan je symbolisch rekenen. In plaats van getallen blijven de symbolen staan. Daarnaast heeft sympy een online omgeving vergelijkbaar met WolframAlpha, maar dan vrij toegankelijk: [gamma.sympy.org](https://gamma.sympy.org/).\n",
    "\n",
    "\n",
    "<div class=\"alert alert-block alert-info\"> Opgave 6 </div>\n",
    "\n",
    " * Maak (met behulp van sympy) de volgende opgaven uit de oefentoets (Toets 19 januari 2017 WISK2-T2) in de studiewijzer van Wiskunde 2 (jaar 1, blok 1):\n",
    "   * 2b\n",
    "   * 5\n",
    "   * 2b, 2c\n",
    "   * 5\n",
    " * Maak (met behulp van sympy) de volgende opgaven uit de oefentoets (Samenstelling van opgaven uit toetsen 2016-2017) in de studiewijzer van Wiskunde 5 (jaar 2, blok 1):\n",
    "   * Opgave 1\n",
    "   * Opgave 4\n",
    "   \n"
   ]
  },
  {
   "cell_type": "code",
   "execution_count": 5,
   "metadata": {},
   "outputs": [],
   "source": [
    "# vul hier je code in"
   ]
  },
  {
   "cell_type": "markdown",
   "metadata": {},
   "source": [
    "<div class=\"alert alert-block alert-info\"> Opgave 7 </div>\n",
    "\n",
    " * Los een wiskundig probleem op met behulp van [gamma.sympy.org](https://gamma.sympy.org/)."
   ]
  },
  {
   "cell_type": "markdown",
   "metadata": {},
   "source": [
    "## [Pandas](https://pandas.pydata.org/)\n",
    "\n",
    "Pandas heb je bij Python programmeren in jaar 1 al eerder gezien. \n",
    "\n",
    "<div class=\"alert alert-block alert-info\"> Opgave 8 </div>\n",
    "\n",
    " * Werk de 10 minuten tutorial van Pandas door: [tutorial](https://pandas.pydata.org/pandas-docs/stable/getting_started/10min.html)\n",
    " \n",
    "Vorig jaar heb je bij MEDFY je electrische signaal van je spieren samen geplot met een afgelezen kracht. Hiervoor heb je een dataset uit een CASSY meetsysteem moeten gebruiken om de EMG data uit te lezen. Daarnaast had je met een andere sampelrate de kracht-data opgeschreven. Met pandas, en dan specifiek de [resample methode](https://pandas.pydata.org/pandas-docs/stable/reference/api/pandas.DataFrame.resample.html) kan dit ook.\n",
    "\n",
    "<div class=\"alert alert-block alert-success\"> Opgave 9 </div>\n",
    "\n",
    " * Werk je eigen meetdata uit met behulp van de pandas tools. \n",
    " * Welke middeling van je data (mean, max, min) geeft de mooiste grafiek als je de EMG data uitzet tegen de afgelezen kracht van de krachtmeter?\n"
   ]
  },
  {
   "cell_type": "code",
   "execution_count": 6,
   "metadata": {},
   "outputs": [],
   "source": [
    "# vul hier je code in"
   ]
  },
  {
   "cell_type": "markdown",
   "metadata": {},
   "source": [
    "## scipy\n",
    "\n",
    "Soms is het nuttig om uit jouw gemeten data informatie te extraheren, bijvoorbeeld de pieken van een signaal. Een handige functie om dit te doen is de find_peaks functie uit scipy.signal module.\n",
    "\n",
    "<div class=\"alert alert-block alert-info\"> Opgave 10 </div>\n",
    "\n",
    "* Gebruik jouw eigen data van Onderzoeken 2 of Metrologie 2.  \n",
    "* Plot deze data  \n",
    "* Vind de pieken uit jouw data\n",
    "* Markeer de hoogste piek en laagste dal in jouw plot\n"
   ]
  },
  {
   "cell_type": "code",
   "execution_count": 7,
   "metadata": {},
   "outputs": [],
   "source": [
    "from scipy.signal import find_peaks\n",
    "\n",
    "# vul hier je eigen code in "
   ]
  },
  {
   "cell_type": "markdown",
   "metadata": {},
   "source": [
    "## Overig: Het maken van jouw eigen module\n",
    "\n",
    "<div class=\"alert alert-block alert-success\"> Opgave 11 </div>\n",
    "\n",
    "* Lees de [module tutorial](https://docs.python.org/3/tutorial/modules.html) om zelf je eigen modules te kunnen maken en gebruiken. \n",
    "* Lees de uitleg over [documentatie van Python](https://realpython.com/documenting-python-code/) of specifiek voor modules ( \n",
    "* Bij Metrologie 2 heb jij de trap_error_array functie gemaakt. Importeer deze functie als een module.\n",
    "* Vraag de hulp functie op van jouw module en functie.\n",
    "* Vraag de output van de `dir` functie van je eigen module op."
   ]
  },
  {
   "cell_type": "code",
   "execution_count": 8,
   "metadata": {},
   "outputs": [],
   "source": [
    "# vul hier je eigen code in"
   ]
  },
  {
   "cell_type": "markdown",
   "metadata": {},
   "source": [
    "Op Blackboard staat voor elke student in deze klas een datafile. In de datafile is de data als volgt opgeslagen:\n",
    "\n",
    "`tijd,data,delta tijd, delta data`\n",
    "\n",
    "\n",
    "<div class=\"alert alert-block alert-success\"> Opgave 12 </div>\n",
    "\n",
    "* Maak gebruik van je al eerder geschreven integratie functie (trap_error_array) en maak een figuur van de integraal van je persoonlijke dataset. \n",
    "* print het oppervlak van de hele dataset als geheel getal (laatste element in de data die je van trap_error_array terug krijgt). "
   ]
  },
  {
   "cell_type": "code",
   "execution_count": 9,
   "metadata": {},
   "outputs": [],
   "source": [
    "# vul hier je eigen code in"
   ]
  }
 ],
 "metadata": {
  "kernelspec": {
   "display_name": "Python 3",
   "language": "python",
   "name": "python3"
  },
  "language_info": {
   "codemirror_mode": {
    "name": "ipython",
    "version": 3
   },
   "file_extension": ".py",
   "mimetype": "text/x-python",
   "name": "python",
   "nbconvert_exporter": "python",
   "pygments_lexer": "ipython3",
   "version": "3.7.3"
  }
 },
 "nbformat": 4,
 "nbformat_minor": 2
}
