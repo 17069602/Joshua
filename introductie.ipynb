{
 "cells": [
  {
   "cell_type": "markdown",
   "metadata": {
    "deletable": false,
    "editable": false,
    "nbgrader": {
     "cell_type": "markdown",
     "checksum": "370bf64d71e89cb34d8454527ff0775b",
     "grade": false,
     "grade_id": "cell-e2371488921e30a4",
     "locked": true,
     "schema_version": 3,
     "solution": false
    }
   },
   "source": [
    "#  Metrologie 2\n",
    "De programmeer opdrachten voor Metrologie 2 bestaan uit Jupyter werkbladen. Deze werkbladen moeten voor de deadline (zie studiewijzer) ingeleverd zijn op Blackboard. \n",
    "\n",
    "De werkbladen worden door de computer nagekeken. Daarom is het belangrijk om je aan bepaalde afspraken te houden:\n",
    "* de functie templates moeten gebruikt worden\n",
    "* waar staat \n",
    "``` # YOUR CODE HERE ``` tot en met ```raise NotImplementedError()``` moet vervangen worden door je eigen code.\n",
    "* let op eventuele return regels, daar moet er 1 van per functie overblijven.\n",
    "* test je eigen code voordat je het inlevert!\n",
    "\n",
    "## Jupyter\n",
    "Jupyter notebooks zijn bestanden waarbij code en tekst door elkaar lopen. Door een 'cell' (blokje tekst of code) als code aan te merken wordt de cell uitvoerbaar. Eventuele output van de code in de cell komt in de ruimte onder de cell te staan. Als voorbeeld onderstaande cell:"
   ]
  },
  {
   "cell_type": "code",
   "execution_count": null,
   "metadata": {
    "deletable": false,
    "editable": false,
    "nbgrader": {
     "cell_type": "code",
     "checksum": "ddbf9aea23b300a98939603c1a322915",
     "grade": false,
     "grade_id": "cell-441ee3469b2a42f1",
     "locked": true,
     "schema_version": 3,
     "solution": false
    }
   },
   "outputs": [],
   "source": [
    "# cell om modules te importeren. Nodig voor interne werking document\n",
    "import numpy as np\n",
    "import numpy.testing as t\n",
    "import matplotlib.pyplot as plt\n"
   ]
  },
  {
   "cell_type": "code",
   "execution_count": null,
   "metadata": {
    "deletable": false,
    "editable": false,
    "nbgrader": {
     "cell_type": "code",
     "checksum": "9b1c57bc8344f07ead181d85b7964adc",
     "grade": false,
     "grade_id": "cell-fc9c7d6952b779a5",
     "locked": true,
     "schema_version": 3,
     "solution": false
    }
   },
   "outputs": [],
   "source": [
    "som = 0\n",
    "N = 10\n",
    "for i in range(N):\n",
    "    som += i\n",
    "print('De som van de getallen van 0 tot {} is {}.'.format(N, som))"
   ]
  },
  {
   "cell_type": "markdown",
   "metadata": {
    "deletable": false,
    "editable": false,
    "nbgrader": {
     "cell_type": "markdown",
     "checksum": "f7f07f36955bb8a370e87a4a0923762c",
     "grade": false,
     "grade_id": "cell-7611fb3e197bf4ce",
     "locked": true,
     "schema_version": 3,
     "solution": false
    }
   },
   "source": [
    "In dit werkblad gaan jullie werken aan integratie algorithmes. De functies die jullie schrijven kan je buiten de jupyter omgeving in bijvoorbeeld IDLE of Spyder direct gebruiken. Met CTRL-a kan de inhoud van een cell geselecteerd worden, om daarna met CTRL-c en CTRL-v de data te kopieren en te plakken."
   ]
  },
  {
   "cell_type": "markdown",
   "metadata": {
    "deletable": false,
    "editable": false,
    "nbgrader": {
     "cell_type": "markdown",
     "checksum": "65a99911a28062a1f03c4d0937ed4fc3",
     "grade": false,
     "grade_id": "cell-5117a5b3d17ed822",
     "locked": true,
     "schema_version": 3,
     "solution": false
    }
   },
   "source": [
    "### Oefenopdracht 1\n",
    "Schrijf een functie met de naam `oppervlak` die voor een rechthoek met lengte $l$ en breedte $b$ de oppervlakte uitrekent. "
   ]
  },
  {
   "cell_type": "code",
   "execution_count": null,
   "metadata": {
    "deletable": false,
    "nbgrader": {
     "cell_type": "code",
     "checksum": "46c53ec0d25b3897ebe2e09ede087201",
     "grade": false,
     "grade_id": "oefenopdracht",
     "locked": false,
     "schema_version": 3,
     "solution": true
    }
   },
   "outputs": [],
   "source": [
    "def oppervlak(l,b):\n",
    "    ''' geeft het oppervlak voor een rechthoek met lengte l en breedte b.'''\n",
    "    # YOUR CODE HERE\n",
    "    raise NotImplementedError()\n"
   ]
  },
  {
   "cell_type": "code",
   "execution_count": null,
   "metadata": {
    "deletable": false,
    "editable": false,
    "nbgrader": {
     "cell_type": "code",
     "checksum": "09e449a0cdd392154c7945ddb0b920e5",
     "grade": true,
     "grade_id": "oefenopdracht-tests",
     "locked": true,
     "points": 1,
     "schema_version": 3,
     "solution": false
    }
   },
   "outputs": [],
   "source": [
    "# TEST FUNCTIES\n",
    "t.assert_allclose(oppervlak(1,2),2)\n",
    "t.assert_allclose(oppervlak(3,3),9)\n",
    "t.assert_allclose(oppervlak(3,0),0)"
   ]
  },
  {
   "cell_type": "markdown",
   "metadata": {},
   "source": [
    "### Opdracht 1\n",
    "Op bladzijde 123 en 124 van het boek Computational Physics van M. Newman staat een implementatie van een lineaire fit aan willekeurige data. In het boek Research Methods for Science van M.P. Marder staat ook een uitwerking van een lineaire fit, met een mogelijkheid de onzekerheid in de parameters van de fit te bepalen.\n",
    "\n",
    "Door een grotere dataset op te delen in kleine stukken en van deze (lineaire) delen de vergelijking op te stellen is, afhankelijk van de variatie in de dataset een willekeurige functie als meerdere rechte stukken te integreren. Deze rechte lijnen zijn zelfs met de hand uit te rekenen, daarna is het een simpele optelsom van de deel-oppervlakken.\n",
    "\n",
    "Maak een functie (`linfit`) die als input een lijst met gemeten x-waarden y-waarden krijgt:\n",
    "$$ y = a\\cdot x + b. $$\n",
    "Daarnaast geeft de functie de onzekerheid in de parameters $a$ en $b$ terug. Daarnaast wordt ook de 't' waarde teruggegeven. Het functie template is in de cel hieronder weergegeven."
   ]
  },
  {
   "cell_type": "code",
   "execution_count": null,
   "metadata": {
    "deletable": false,
    "nbgrader": {
     "cell_type": "code",
     "checksum": "e2496e8c0f7b5fc74d09de6d207bb3a2",
     "grade": false,
     "grade_id": "linfit",
     "locked": false,
     "schema_version": 3,
     "solution": true
    }
   },
   "outputs": [],
   "source": [
    "def linfit(x,y):\n",
    "    ''' functie die voor een dataset (x,y) waarden de helling (a), offset (b), onzekerheid in a en b\n",
    "    (delta_a, delta_b) en t-test resultaat (t) teruggeeft. '''\n",
    "    \n",
    "    if len(x) != len(y): # x,y data moeten even lang zijn!\n",
    "        raise ValueError('''Lengte van de input data is niet gelijk!\n",
    "        aantal elementen in x: {}\n",
    "        aantal elementen in y: {}'''.format(len(x), len(y)))\n",
    "    \n",
    "    N = len(x) # aantal datapunten in x,y\n",
    "    \n",
    "    # YOUR CODE HERE\n",
    "    raise NotImplementedError()\n",
    "    return (a,b,delta_a,delta_b,t)"
   ]
  },
  {
   "cell_type": "markdown",
   "metadata": {
    "deletable": false,
    "editable": false,
    "nbgrader": {
     "cell_type": "markdown",
     "checksum": "17a95046cbb935f3786e24771e0b1dad",
     "grade": false,
     "grade_id": "cell-b7f3b5578ee3df7b",
     "locked": true,
     "schema_version": 3,
     "solution": false
    }
   },
   "source": [
    "Om bijvoorbeeld 100 gemeten punten (x,y) weer te geven met de lineaire fit kan onderstaande code gebruikt worden.\n",
    "\n",
    "De y-data wordt gegenereerd door de formule\n",
    "$$y = (3 \\pm 0.3) + (4 \\pm 0.4)x,$$\n",
    "met een meetonnauwkeurigheid \n",
    "de lineaire fit zal dus niet exact overeen komen met de 'gemeten' data."
   ]
  },
  {
   "cell_type": "code",
   "execution_count": null,
   "metadata": {
    "deletable": false,
    "editable": false,
    "nbgrader": {
     "cell_type": "code",
     "checksum": "d861da9f6499708c52fc82ee02e132fe",
     "grade": false,
     "grade_id": "cell-efd4f7cf684dd7c5",
     "locked": true,
     "schema_version": 3,
     "solution": false
    }
   },
   "outputs": [],
   "source": [
    "# voorbeeld gebruik\n",
    "def randomdata(a,b):\n",
    "    return a + (b-a)*np.random.random()\n",
    "\n",
    "err_a = 0.3\n",
    "err_b = 0.4\n",
    "x = range(10)\n",
    "y = [(3+randomdata(-err_a,err_a)) + (4+randomdata(-err_b,err_b))*i for i in x]\n",
    "yerr = [randomdata(-err_a, err_a) + randomdata(-err_b,err_b)*i for i in x]\n",
    "try:\n",
    "        a,b,delta_a, delta_b,tt = linfit(x,y)\n",
    "except ValueError as e:\n",
    "        print(e)\n",
    "\n",
    "# zie ook https://hhs-tn.github.io        \n",
    "def func(x,a,b):\n",
    "    return a*x + b\n",
    "\n",
    "# vul ymax/ymin in met behulp van sigma maal onzekerheid in fit parameters\n",
    "p_opt=np.array([a,b])\n",
    "fit_error=np.array([delta_a, delta_b])\n",
    "sigma_plot =3\n",
    "ymax = func(x, *(p_opt+fit_error*sigma_plot))\n",
    "ymin = func(x, *(p_opt-fit_error*sigma_plot))\n",
    "ydata = func(x, *p_opt)\n",
    "\n",
    "for ii in range(len(fit_error)):\n",
    "    rc = p_opt[0] + sigma_plot*fit_error[0]\n",
    "    fit_error[0] = -fit_error[0]\n",
    "    for jj in range(len(fit_error)):\n",
    "        offset = p_opt[1] + sigma_plot*fit_error[1]\n",
    "        fit_error[1] = -fit_error[1]\n",
    "        yerr = func(x, rc, offset)\n",
    "        maxTrue = yerr > ymax\n",
    "        minTrue = yerr < ymin\n",
    "        ymax[yerr > ymax] = yerr[yerr > ymax]\n",
    "        ymin[yerr < ymin] = yerr[yerr < ymin]\n",
    "        \n",
    "        \n",
    "# grafische weergave        \n",
    "plt.errorbar(x,y,yerr=yerr,fmt='k*',label='data')\n",
    "plt.plot(x,ydata, label='fit')\n",
    "plt.plot(x,ymin, label='$3\\sigma')\n",
    "plt.plot(x,ymax, label='$3\\sigma')\n",
    "plt.show()\n",
    "\n",
    "print('''De gevonden vergelijking is:\n",
    " y = {b:4.5f} + {a:4.5f}x\n",
    "met als onnauwkeurigheid in de parameters\n",
    "  a = {a:4.5f} +/- {da:4.5f}\n",
    "  b = {b:4.5f} +/- {db:4.5f}'''.format(b=b,a=a,db=3*delta_b,da=3*delta_a))"
   ]
  },
  {
   "cell_type": "code",
   "execution_count": null,
   "metadata": {
    "deletable": false,
    "editable": false,
    "nbgrader": {
     "cell_type": "code",
     "checksum": "34658faf34d4103f280db2a8b638796a",
     "grade": true,
     "grade_id": "linfit-basis",
     "locked": true,
     "points": 1,
     "schema_version": 3,
     "solution": false
    }
   },
   "outputs": [],
   "source": [
    "# TEST FUNCTIES \n",
    "x = range(-10, 10)\n",
    "y = [3+4*i+0.1*i**2 for i in x]\n",
    "a,b,delta_a, delta_b, tt = linfit(x,y)\n",
    "t.assert_allclose(a,3.9)\n",
    "t.assert_allclose(b,6.3)\n",
    "t.assert_allclose(a,3.9)"
   ]
  },
  {
   "cell_type": "code",
   "execution_count": null,
   "metadata": {
    "deletable": false,
    "editable": false,
    "nbgrader": {
     "cell_type": "code",
     "checksum": "41f7e84720db334d6875ed4ee1ef8527",
     "grade": true,
     "grade_id": "linfit-basis2",
     "locked": true,
     "points": 1,
     "schema_version": 3,
     "solution": false
    }
   },
   "outputs": [],
   "source": [
    "# TEST FUNCTIES \n",
    "## geen offset\n",
    "x = range(-10,10)\n",
    "y = [3+4*i for i in x]\n",
    "a,b,delta_a, delta_b, tt = linfit(x,y)\n",
    "t.assert_allclose(a,4)\n",
    "t.assert_allclose(b,3)\n",
    "t.assert_allclose(delta_a, 0)\n",
    "t.assert_allclose(delta_b, 0)"
   ]
  },
  {
   "cell_type": "code",
   "execution_count": null,
   "metadata": {
    "deletable": false,
    "editable": false,
    "nbgrader": {
     "cell_type": "code",
     "checksum": "38465a94f0de8c081e918d755388edab",
     "grade": true,
     "grade_id": "linfit-basis3",
     "locked": true,
     "points": 1,
     "schema_version": 3,
     "solution": false
    }
   },
   "outputs": [],
   "source": [
    "# HIDDEN TEST FUNCTIES"
   ]
  },
  {
   "cell_type": "code",
   "execution_count": null,
   "metadata": {},
   "outputs": [],
   "source": []
  }
 ],
 "metadata": {
  "kernelspec": {
   "display_name": "Python 3",
   "language": "python",
   "name": "python3"
  },
  "language_info": {
   "codemirror_mode": {
    "name": "ipython",
    "version": 3
   },
   "file_extension": ".py",
   "mimetype": "text/x-python",
   "name": "python",
   "nbconvert_exporter": "python",
   "pygments_lexer": "ipython3",
   "version": "3.7.3"
  }
 },
 "nbformat": 4,
 "nbformat_minor": 2
}
