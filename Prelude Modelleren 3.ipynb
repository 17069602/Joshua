{
 "cells": [
  {
   "cell_type": "markdown",
   "metadata": {},
   "source": [
    "# Numpy \n",
    "Numpy (Numerical Python) is een ‘add-on package’ ofwel een pakket wat je aan Python kan toevoegen. \n",
    "Door Numpy toe  te voegen aan Python ben je in staat om wetenschappelijke berekeningen heel snel en eenvoudig uit te voeren.\n",
    "In dit Modelleren 3 gebruiken we de basis van numpy. Maar er is veel meer mogelijk met numpy. \n",
    "Op de site van numpy vind je de meest actuele gebruikershandleiding https://numpy.org/doc/1.17/numpy-user-1.17.0.pdf . Daar staat dus veel meer in dan bij dit vak Modelleren III wordt gebruikt, maar voor een technisch natuurkundige kan het geen kwaad om af en toe de user-guide te raadplegen.\n",
    "\n",
    "Voordat we beginnen met numpy moeten we dat kenbaar maken aan Python, ofwel moeten we het package toevoegen aan onze programmeeromgeving"
   ]
  },
  {
   "cell_type": "code",
   "execution_count": 2,
   "metadata": {
    "collapsed": true
   },
   "outputs": [],
   "source": [
    "import numpy as np"
   ]
  },
  {
   "cell_type": "markdown",
   "metadata": {},
   "source": [
    "Als we functies van numpy willen gebruiken geven we dit aan met np. prefix\n",
    "```python\n",
    "x=np.cos(3.14). Let op: alles gaat in radialen\n",
    "```\n",
    "Laat zien dat cos(0)=-1.0 in numpy. \n",
    "\n",
    "En frummel nog wat meer in onderstaande regel met bekende functie zoals sinus, ln=log, log10, sqrt, exp.\n",
    "> (Functie invullen in onderstaande regel en dan met de combinatie shift enter de berekening uitvoeren"
   ]
  },
  {
   "cell_type": "code",
   "execution_count": null,
   "metadata": {
    "collapsed": true,
    "scrolled": false
   },
   "outputs": [],
   "source": []
  },
  {
   "cell_type": "markdown",
   "metadata": {},
   "source": [
    "### Een-dimensionale arrays // vectoren\n",
    "Vectoren of een-dimensionale arrays zijn de bouwstenen voor numerieke berekeningen. Eerst laten we zien hoe een vector gemaakt kan worden.\n",
    "De meest gebruikte 'constructor' om een vector te construeren is de **np.linspace**, die maakt een array van gelijke afstand van decimale getallen. De aanroep rij is:\n",
    "```python\n",
    "x=np.linspace(start, stop, num=50, endpoint=True, retstep=False)\n",
    "```\n",
    "x is een array van lengte ```num```. Als ```num``` niet vermeld wordt dan gaat numpy uit van 50 (default waarde is dus 50). Het eerste element ```x[0]= start ```. Als ```endpoint``` is ```True```(de default waarde), dan is de laatste waarde ```x[-1]=stop``` en de stapwaarde (=afstand tussen opeenvolgende waarden) ```step=(stop-start)/(num-1)```. Maar als we ```endpoint = False``` meegeven dan is de stapwaarde ```step=(stop-start)/num``` en dan is de laatste waarde ```x[-1]=stop - step```.\n",
    "Als ```retstep=True)``` dan geeft ```numpy``` een _tuple_ terug en de stapwaarde. \n",
    "Laat dit zien door de onderstaande regels in te kloppen en er wat aan te wijzigen. \n",
    "```python\n",
    "import numpy as np\n",
    "xc,dx=np.linspace(0,1,11,retstep=True) \n",
    "xc,dx\n",
    "```\n",
    "En vervang regel 2 en 3 door de regels\n",
    "```python\n",
    "xo=np.linspace(0,1,10,endpoint=False)\n",
    "xo\n",
    "```"
   ]
  },
  {
   "cell_type": "code",
   "execution_count": null,
   "metadata": {
    "collapsed": true
   },
   "outputs": [],
   "source": []
  },
  {
   "cell_type": "markdown",
   "metadata": {},
   "source": [
    "### Look alike constructies\n",
    "Als we een vector ```x``` hebben geconstrueerd, dan kunnen we ook een look-alike vecor construeren. <br> Neem het gesloten interval $[-2\\pi,2\\pi]$ en verdeel dat met ```np.linspace``` in 5 gelijke delen waarbij beide grenzen zijn inbegrepen.<br> Gebruik onderstaande contsructie en herstel de fouten, want van fouten leer je.\n",
    "```Python\n",
    "x=np.linspace(-2.pi, 2np.pi, 6)\n",
    "x\n",
    "```"
   ]
  },
  {
   "cell_type": "code",
   "execution_count": null,
   "metadata": {
    "collapsed": true
   },
   "outputs": [],
   "source": []
  },
  {
   "cell_type": "markdown",
   "metadata": {},
   "source": [
    "Je kunt nu voor de vijf ```x``` waarden heel makkelijk 5 functiewaarden bepalen. <br>\n",
    "Bijvoorbeeld de ```sinus``` van de ```x-```waarden op het interval $[-\\pi,\\pi]$.\n",
    "```python\n",
    "import numpy as np\n",
    "x=np.linspace(-np.pi,np.pi,5)\n",
    "y=np.cos(x)\n",
    "x,y\n",
    "```"
   ]
  },
  {
   "cell_type": "code",
   "execution_count": null,
   "metadata": {
    "collapsed": true
   },
   "outputs": [],
   "source": []
  },
  {
   "cell_type": "markdown",
   "metadata": {},
   "source": [
    "#  matplotlib\n",
    "### Grafieken in het platte vlak \n",
    "We gaan nu met de kennis van vectoren wat de grafiek van functies van een variabele tekeken (plotten).,br>\n",
    "Bijvoorbeeld de functie $\\cos(x)$ op het interval van $[-10,10]$.\n",
    "Daarvoor gebruiken we de add-on  matplotlib waar jullie al eerder bij Programmeren mee gewerkt hebben!\n",
    "\n",
    "```python\n",
    "import numpy as np\n",
    "import matplotlib.pyplot as plt\n",
    "%matplotlib notebook\n",
    "x=np.linspace(-20,20,10)\n",
    "y=np.cos(x)\n",
    "plt.ion\n",
    "plt.plot(x, y,)\n",
    "plt.show\n",
    "```\n",
    "\n",
    "Kopieer bovenstaande code en corrigeer zo nodig de fouten.<br>\n",
    "Breng daarna de volgende wijzigingen aan: <br>\n",
    "1.Verander ```num``` van 10 naar 100 <br>\n",
    "2.Verander ```plt.plot(x,y)``` in ```plt.plot(x, y, \"+-\")```<br>\n",
    "3.Pas de functie aan bijvoorbeeld  : $\\sin(x), \\log(x)$ <br>\n",
    "\n",
    "\n"
   ]
  },
  {
   "cell_type": "code",
   "execution_count": null,
   "metadata": {
    "collapsed": true
   },
   "outputs": [],
   "source": []
  },
  {
   "cell_type": "markdown",
   "metadata": {},
   "source": [
    "Je kunt makkelijk een combinatie van standaardfuncties in python door een functie te definieren.\n",
    "Hieronder een voorbeeld van een som van $3\\sin(x) + \\cos(3x)$.\n",
    "\n",
    "```python\n",
    "import numpy as np\n",
    "import matplotlib.pyplot as plt\n",
    "\n",
    "def f(x):\n",
    "    ''' functie volgens voorschrift'''\n",
    "    return 3*np.sin(x)+np.cos(3*x)\n",
    "%matplotlib notebook\n",
    "x=np.linspace(-2*np.pi,2*np.pi,200)\n",
    "plt.ion\n",
    "plt.plot(x, f(x))\n",
    "plt.show\n",
    "```\n",
    "Kopieer bovenstaande code en corrigeer zo nodig de fouten.\n",
    "<br>\n",
    "Verzin zelf wat wijzigingen."
   ]
  },
  {
   "cell_type": "code",
   "execution_count": null,
   "metadata": {},
   "outputs": [],
   "source": []
  },
  {
   "cell_type": "markdown",
   "metadata": {
    "collapsed": true
   },
   "source": [
    "En nu een niet zo eenvoudig voorbeeld:\n",
    "We definieren $f(x)$ op $[-\\pi,\\pi]$ als <br> \n",
    "$f(x)= -1$ als  $-\\pi \\leq x \\leq 0$<br>\n",
    "$f(x)= +1$ als $0 \\leq x \\leq \\pi$"
   ]
  },
  {
   "cell_type": "markdown",
   "metadata": {},
   "source": [
    "```python\n",
    "import numpy as np\n",
    "import matplotlib.pyplot as plt\n",
    "%matplotlib notebook\n",
    "x=np.linspace(-np.pi, np.pi, 500)\n",
    "f=np.ones_like(x)\n",
    "f[x<0]=-1\n",
    "y1=(4/np.pi)*(np.sin(x)+np.sin(3*x)/3.0)\n",
    "y2=y1+(4/np.pi)*(np.sin(5*x)/5.0+np.sin(7*x)/7.0)\n",
    "y3=y2+(4/np.pi)*(np.sin(9*x)/9.0+np.sin(11*x)/11.0)\n",
    "plt.ion()\n",
    "plt.plot(x,f,'b-',lw=3,label='f(x)')\n",
    "plt.plot(x,y1,'c--',lw=2,label='twee termen')\n",
    "#plt.plot(x,y2,'b+',lw=1,label='vier termen')\n",
    "#plt.plot(x,y3,'r-',lw=2,label='zes termen')\n",
    "#plt.legend(loc='best')\n",
    "#plt.xlabel('x',style='italic')\n",
    "#plt.ylabel('partiele sommen', style='italic')\n",
    "#plt.suptitle('Partiele sommen van de Fourierreeks van f(x)', size=16,weight='bold')\n",
    "```\n",
    "Kopieer bovenstaande pyton-code en haal stap voor stap de bovenste \\#\\ weg en kijk naar de veranderingen in de grafiek. "
   ]
  },
  {
   "cell_type": "code",
   "execution_count": null,
   "metadata": {
    "collapsed": true,
    "scrolled": true
   },
   "outputs": [],
   "source": []
  },
  {
   "cell_type": "code",
   "execution_count": null,
   "metadata": {
    "collapsed": true
   },
   "outputs": [],
   "source": []
  }
 ],
 "metadata": {
  "kernelspec": {
   "display_name": "Python 3",
   "language": "python",
   "name": "python3"
  },
  "language_info": {
   "codemirror_mode": {
    "name": "ipython",
    "version": 3
   },
   "file_extension": ".py",
   "mimetype": "text/x-python",
   "name": "python",
   "nbconvert_exporter": "python",
   "pygments_lexer": "ipython3",
   "version": "3.5.4"
  }
 },
 "nbformat": 4,
 "nbformat_minor": 2
}
