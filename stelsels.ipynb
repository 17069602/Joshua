{
 "cells": [
  {
   "cell_type": "markdown",
   "metadata": {},
   "source": [
    "# Werkblad Stelsels van vergelijkingen en matrixes\n",
    "\n",
    "<a id=\"matrixes\"> </a>\n",
    "# Matrixes\n",
    "\n",
    "Lees hoofdstuk 3 van Deel 2 van het boek Toegepaste Wiskunde voor het Hoger Onderwijs (Jan Blankespoor, Kees de Joode en Aad Sluijter) als je meer theoretische achtergrond voor de opdrachten nodig hebt. \n",
    "\n",
    "Stel de volgende matrixes en vectoren zijn gegeven:\n",
    "$$ \\mathbf{A} = \\begin{bmatrix}\n",
    "a_{11} & a_{12} \\\\\n",
    "a_{21} & a_{22} \n",
    "\\end{bmatrix}$$\n",
    "\n",
    "$$ \\mathbf{B} = \\begin{bmatrix}\n",
    "b_{11} & b_{12} & b_{13} \\\\\n",
    "b_{21} & b_{22} & b_{23}\n",
    "\\end{bmatrix}$$\n",
    "\n",
    "<div class=\"alert alert-block alert-info\">Opgave 1</div>\n",
    "\n",
    "* Uit hoeveel rijen en kolommen bestaan $\\mathbf{A}$ en $\\mathbf{B}$?\n",
    "* Welk type matrixes zijn $\\mathbf{A}$ en $\\mathbf{B}$?\n",
    "* Als $a_{12} = a_{21} = 0$, welk type matrix is $\\mathbf{A}$ dan?\n",
    "* Bereken $\\mathbf{A} + \\mathbf{A}$ en $\\mathbf{B} + \\mathbf{B}$\n",
    "* Bereken $\\mathbf{A} \\cdot \\mathbf{A}$ en  $\\mathbf{B} \\cdot \\mathbf{B}$\n",
    "* Bereken $\\mathbf{A}^T$  en  $\\mathbf{B}^T$\n",
    "\n",
    "## Sympy\n",
    "Met behulp van Sympy [sympy.org](https://www.sympy.org/en/index.html) (of [live.sympy.org](https://live.sympy.org/) om in de browser er mee te spelen) is een python module die berekeningen analytisch kan uitvoeren. In plaats van getallen is het dan ook mogelijk om met symbolen te werken. "
   ]
  },
  {
   "cell_type": "code",
   "execution_count": 1,
   "metadata": {},
   "outputs": [
    {
     "data": {
      "text/plain": [
       "'A'"
      ]
     },
     "metadata": {},
     "output_type": "display_data"
    },
    {
     "data": {
      "text/latex": [
       "$$\\left[\\begin{matrix}3 & 2\\\\4 & 5\\end{matrix}\\right]$$"
      ],
      "text/plain": [
       "⎡3  2⎤\n",
       "⎢    ⎥\n",
       "⎣4  5⎦"
      ]
     },
     "metadata": {},
     "output_type": "display_data"
    },
    {
     "data": {
      "text/plain": [
       "'A*A'"
      ]
     },
     "metadata": {},
     "output_type": "display_data"
    },
    {
     "data": {
      "text/latex": [
       "$$\\left[\\begin{matrix}17 & 16\\\\32 & 33\\end{matrix}\\right]$$"
      ],
      "text/plain": [
       "⎡17  16⎤\n",
       "⎢      ⎥\n",
       "⎣32  33⎦"
      ]
     },
     "metadata": {},
     "output_type": "display_data"
    },
    {
     "data": {
      "text/plain": [
       "'A.T'"
      ]
     },
     "metadata": {},
     "output_type": "display_data"
    },
    {
     "data": {
      "text/latex": [
       "$$\\left[\\begin{matrix}3 & 4\\\\2 & 5\\end{matrix}\\right]$$"
      ],
      "text/plain": [
       "⎡3  4⎤\n",
       "⎢    ⎥\n",
       "⎣2  5⎦"
      ]
     },
     "metadata": {},
     "output_type": "display_data"
    },
    {
     "data": {
      "text/plain": [
       "'det(A)'"
      ]
     },
     "metadata": {},
     "output_type": "display_data"
    },
    {
     "data": {
      "text/latex": [
       "$$7$$"
      ],
      "text/plain": [
       "7"
      ]
     },
     "metadata": {},
     "output_type": "display_data"
    },
    {
     "data": {
      "text/plain": [
       "'B'"
      ]
     },
     "metadata": {},
     "output_type": "display_data"
    },
    {
     "data": {
      "text/latex": [
       "$$\\left[\\begin{matrix}a_{11} & a_{12}\\\\a_{21} & a_{22}\\end{matrix}\\right]$$"
      ],
      "text/plain": [
       "⎡a₁₁  a₁₂⎤\n",
       "⎢        ⎥\n",
       "⎣a₂₁  a₂₂⎦"
      ]
     },
     "metadata": {},
     "output_type": "display_data"
    },
    {
     "data": {
      "text/plain": [
       "'B*B'"
      ]
     },
     "metadata": {},
     "output_type": "display_data"
    },
    {
     "data": {
      "text/latex": [
       "$$\\left[\\begin{matrix}a_{11}^{2} + a_{12} a_{21} & a_{11} a_{12} + a_{12} a_{22}\\\\a_{11} a_{21} + a_{21} a_{22} & a_{12} a_{21} + a_{22}^{2}\\end{matrix}\\right]$$"
      ],
      "text/plain": [
       "⎡    2                               ⎤\n",
       "⎢ a₁₁  + a₁₂⋅a₂₁    a₁₁⋅a₁₂ + a₁₂⋅a₂₂⎥\n",
       "⎢                                    ⎥\n",
       "⎢                                 2  ⎥\n",
       "⎣a₁₁⋅a₂₁ + a₂₁⋅a₂₂   a₁₂⋅a₂₁ + a₂₂   ⎦"
      ]
     },
     "metadata": {},
     "output_type": "display_data"
    },
    {
     "data": {
      "text/plain": [
       "'B.T'"
      ]
     },
     "metadata": {},
     "output_type": "display_data"
    },
    {
     "data": {
      "text/latex": [
       "$$\\left[\\begin{matrix}a_{11} & a_{21}\\\\a_{12} & a_{22}\\end{matrix}\\right]$$"
      ],
      "text/plain": [
       "⎡a₁₁  a₂₁⎤\n",
       "⎢        ⎥\n",
       "⎣a₁₂  a₂₂⎦"
      ]
     },
     "metadata": {},
     "output_type": "display_data"
    },
    {
     "data": {
      "text/plain": [
       "'det(B)'"
      ]
     },
     "metadata": {},
     "output_type": "display_data"
    },
    {
     "data": {
      "text/latex": [
       "$$a_{11} a_{22} - a_{12} a_{21}$$"
      ],
      "text/plain": [
       "a₁₁⋅a₂₂ - a₁₂⋅a₂₁"
      ]
     },
     "metadata": {},
     "output_type": "display_data"
    }
   ],
   "source": [
    "import sympy as sp\n",
    "sp.init_printing(use_latex='mathjax') # voor mooie weergave \n",
    "from IPython.display import display\n",
    "# maak daarnaast gebruik van display in plaats van print!\n",
    "\n",
    "# matrix met getallen\n",
    "A = sp.Matrix([[3,2],[4,5]])\n",
    "\n",
    "display('A', A)\n",
    "display('A*A',A*A)\n",
    "display('A.T',A.T)\n",
    "display('det(A)', A.det())\n",
    "\n",
    "# matrix met symbolen\n",
    "[a11,a12,a21,a22] = sp.symbols(['a11','a12','a21','a22'])\n",
    "B = sp.Matrix([[a11, a12], [a21, a22]])\n",
    "\n",
    "display('B', B)\n",
    "display('B*B', B*B)\n",
    "display('B.T', B.T)\n",
    "display('det(B)', B.det())"
   ]
  },
  {
   "cell_type": "markdown",
   "metadata": {},
   "source": [
    "<div class=\"alert alert-block alert-success\">Opgave 2</div>\n",
    "\n",
    "* Test met behulp van symbolische matrixes en matrixes met getallen vergelijkingen 3.11, 3.12, 3.13, 3.14 en 3.15 van bladzijde 77 uit het wiskunde boek. "
   ]
  },
  {
   "cell_type": "code",
   "execution_count": null,
   "metadata": {},
   "outputs": [],
   "source": []
  },
  {
   "cell_type": "markdown",
   "metadata": {},
   "source": [
    "## Numpy\n",
    "Het voordeel van sympy is dat je met symbolen kan werken. Als je dit niet nodig hebt is het vaak niet de snelste manier om numeriek tot het antwoord te komen. Numpy (een andere python module) kan ook met matrixes rekenen. "
   ]
  },
  {
   "cell_type": "code",
   "execution_count": null,
   "metadata": {},
   "outputs": [],
   "source": [
    "import numpy as np\n",
    "\n",
    "C = np.array([[3,2],[4,5]])\n",
    "\n",
    "print(C)\n",
    "print(C**2) # is dit correct als je C*C als matrix vermenigvuldiging wilt uitrekenen?\n",
    "print(C.dot(C))\n",
    "print(C.transpose())\n",
    "\n",
    "print(np.linalg.det(C))"
   ]
  },
  {
   "cell_type": "markdown",
   "metadata": {},
   "source": [
    "<div class=\"alert alert-block alert-info\">Opgave 3</div>\n",
    "\n",
    "* Werk met de hand en met numpy de matrix vermenigvuldiging $$\\begin{bmatrix}\n",
    "3 & 2 \\\\ \n",
    "4 & 5 \\end{bmatrix} \\cdot \\begin{bmatrix}\n",
    "3& 2 \\\\\n",
    "4 & 5 \\end{bmatrix} $$\n",
    "uit\n",
    "* Test met behulp van numpy matrixes vergelijkingen 3.11, 3.12, 3.13, 3.14 en 3.15 van bladzijde 77 uit het wiskunde boek."
   ]
  },
  {
   "cell_type": "code",
   "execution_count": null,
   "metadata": {},
   "outputs": [],
   "source": []
  },
  {
   "cell_type": "markdown",
   "metadata": {},
   "source": [
    "<a id=\"stelsels\"></a>\n",
    "\n",
    "# Stelsels van vergelijkingen\n",
    "\n",
    "Stelsels van vergelijkingen zijn met de hand, of bij wat meer vergelijkingen, met de computer op te lossen. \n",
    "\n",
    "Het stelsel (stelsel 1)\n",
    "$$ 3x = 12 $$\n",
    "\n",
    "is makkelijk met de hand op te lossen: \n",
    "Herschrijven geeft $x = \\frac{12}{3} = 4 $. \n",
    "\n",
    "Met 2 vergelijkingen en 2 onbekenden worden de handelingen iets uitgebreider. Bijvoorbeeld voor (stelsel 2)\n",
    "$$ \\begin{align}\n",
    "2x + 3y &=  6 \\\\\n",
    "4x + 9y &=  15. \\\\\n",
    "\\end{align} $$\n",
    "\n",
    "Door eerst de eerste vergelijking uit te schrijven voor $x$:\n",
    "$$ x = \\frac{6 - 3y}{2} $$\n",
    "en dit weer in te vullen in de tweede:\n",
    "$$ 4\\cdot \\frac{6-3y}{2} + 9y = 15 $$ \n",
    "\n",
    "is een stelsel met maar 1 vergelijking weer eenvoudig met de hand op te lossen. \n",
    "\n",
    "Maar met meer vergelijkingen is het lastiger om met de hand het probleem op te lossen. \n",
    "\n",
    "Voor bijvoorbeeld een systeem met 4 variabelen (stelsel 3)\n",
    "$$ \\begin{align}\n",
    "2w + x + 4y + z &= -4 \\\\\n",
    "3w + 4x -y -z &= 3 \\\\\n",
    "w - 4x + y + 5z &= 9 \\\\\n",
    "2w -2x + y + 3z &= 7,\n",
    "\\end{align}\n",
    "$$\n",
    "\n",
    "is het veel schrijfwerk. Omschrijven in vector notatie:\n",
    "$$ \\mathbf{A} \\mathbf{x} = \\mathbf{v} $$\n",
    "met $\\mathbf{x} = \\left(w,x,y,z\\right)$, $\\mathbf{v} = \\left(-4, 3, 9, 7 \\right)$ en\n",
    "$$ \\mathbf{A} =  \\begin{bmatrix}\n",
    "2 & 1 & 4 & 1 \\\\\n",
    "3 & 4 & -1 & -1 \\\\\n",
    "1 & -4 & 1 & 5 \\\\\n",
    "2 & -2 & 1 & 3 \n",
    "\\end{bmatrix} $$\n",
    "\n",
    "maakt het makkelijk om de gebruikte tools voor elk stelsel te kunnen gebruiken. De vectoren $\\mathbf{x}$ en $\\mathbf{v}$ en de matrix $\\mathbf{A}$ kunnen elke grootte hebben. Drie of 1000 vergelijkingen maakt voor de notatie niet meer uit (berekentijd wel!). Matrix $\\mathbf{A}$ wordt ook wel de coefficienten matrix genoemd. \n",
    "\n",
    "Bij het oplossen van stelsels van vergelijkingen zijn er 3 mogelijkheden:\n",
    " 1. het stelsel heeft precies 1 oplossing\n",
    " 2. het stelsel heeft geen enkele oplossing\n",
    " 3. het stelsel heeft oneindig veel oplossingen\n",
    " \n",
    "De determinant van de coefficenten matrix geeft informatie over de oplosbaarheid van het stelsel. Als de determinant ongelijk is aan 0 is er precies 1 oplossing. Anders kunnen er geen enkele of oneindig veel oplossingen zijn. \n",
    "\n",
    "Door gebruik te maken van de inverse matrix is het ook mogelijk om een oplossing te vinden. Herschrijven van $$ \\mathbf{A} \\mathbf{x} = \\mathbf{v} $$ geeft $$ \\mathbf{x} =  \\mathbf{A}^{-1} \\mathbf{v}. $$\n",
    "\n",
    "<div class=\"alert alert-block alert-success\"> Opgave 4 </div>\n",
    "\n",
    "* Pas de code uitgewerkt in H6 (example 6.1, blz 218) uit het boek van Newman toe op de 3 bovenstaande stelsels. Om het je zelf makkelijk te maken zorg ervoor dat de code die je stelsels oplost een functie is. Deze functie heeft als input argumenten de vergelijkingen en antwoorden (als matrix en vector) en geeft als output een vector terug. \n",
    "\n",
    "<div class=\"alert alert-block alert-info\"> Opgave 5 </div>\n",
    "\n",
    "* Maak gebruik van numy (met bijvoorbeeld [numpy.linalg.solve](https://docs.scipy.org/doc/numpy/reference/generated/numpy.linalg.solve.html)), of sympy (met bijvoorbeeld [solvers](https://docs.sympy.org/latest/modules/solvers/solvers.html)) om de 3 bovenstaande stelsels op te lossen. "
   ]
  },
  {
   "cell_type": "code",
   "execution_count": null,
   "metadata": {},
   "outputs": [],
   "source": []
  },
  {
   "cell_type": "markdown",
   "metadata": {},
   "source": [
    "<div class=\"alert alert-block alert-info\">Opgave 6 </div>\n",
    "\n",
    "* Werk Excercise 6.1 uit het boek Compuational Physics uit. \n"
   ]
  },
  {
   "cell_type": "code",
   "execution_count": null,
   "metadata": {},
   "outputs": [],
   "source": []
  },
  {
   "cell_type": "markdown",
   "metadata": {},
   "source": [
    "<div class=\"alert alert-block alert-success\"> Opgave 7 </div>\n",
    "\n",
    "* Werk Excercise 6.2 uit het boek Computational Physics uit."
   ]
  },
  {
   "cell_type": "code",
   "execution_count": null,
   "metadata": {},
   "outputs": [],
   "source": []
  },
  {
   "cell_type": "markdown",
   "metadata": {},
   "source": [
    "<div class=\"alert alert-block alert-success\"> Opgave 7 </div>\n",
    "\n",
    "<img src=\"voorbeeld_MECH1.png\" width=\"200\" height=\"100\">\n",
    "Figuur H12.65 (Giancoli deel 1)\n",
    "\n",
    "* Vorige jaar bij MECH1 hebben jullie vraagstukken moeten oplossen met behulp van krachten en krachtmomenten. Een van de opgaves die jullie bij de werkcolleges hebben gehad is om de krachten op een huishoudtrapje te berekenen (werkcollege week 7, Opgave 2), zie bovenstaande plaatje. Neem het volgende aan:\n",
    "    * Massa persoon = 56,0 kg\n",
    "    * Massa elk ladderdeel  = 1,0 kg\n",
    "    * Wrijving met grond is verwaarloosbaar\n",
    "    \n",
    "  Bereken de 5 krachten:\n",
    "      1. y-component van de normaalkracht van linkerpoot\n",
    "      2. y-component van de normaal kracht van rechterpoot\n",
    "      3. x-component van de kracht in het scharnierpunt\n",
    "      4. y-component van de kracht in het scharnierpunt\n",
    "      5. trekkracht in de horizontale spandraad"
   ]
  },
  {
   "cell_type": "markdown",
   "metadata": {},
   "source": [
    "# Matrix inverses, determinanten en Cramer (week 3)\n",
    "\n",
    "De inverse van een matrix is als volgt gedefinieerd:\n",
    "$$ \\mathbf{A}\\mathbf{A}^{-1} = \\mathbf{A}^{-1}\\mathbf{A} = \\mathbf{I} $$\n",
    "\n",
    "<div class=\"alert alert-block alert-info\">Opgave 8 </div>\n",
    "\n",
    "* Bereken (met de hand) de inverse matrix van:\n",
    "$$ \\mathbf{A} = \\begin{bmatrix}\n",
    "2 & -1 & 3 \\\\\n",
    "1 & 1 & -1 \\\\\n",
    "5 & -3 & 1 \n",
    "\\end{bmatrix} $$\n",
    "\n",
    "* Bereken met behulp van numpy en (of sympy) de inverse matrix. \n",
    "* Controleer je met de hand uitgewerkte antwoord.\n",
    "\n",
    "<div class=\"alert alert-block alert-success\">Opgave 9 </div>\n",
    "\n",
    "* Maak gebruik van de [cofactor methode](https://docs.sympy.org/1.5.1/modules/matrices/matrices.html#sympy.matrices.matrices.MatrixDeterminant.cofactor_matrix) en met behulp van onderstaande methode (3.20 uit het wiskunde boek) om te controleren of dit dezelfde inverse matrix voor $\\mathbf{A}$ geeft.\n",
    "$$ \\mathbf{A}^{-1} = \\frac{1}{\\det\\mathbf{A}} \\begin{bmatrix}\n",
    "A_{11} & A_{12} & \\cdots & A_{1n} \\\\\n",
    "A_{21} & A_{22} & \\cdots & A_{2n} \\\\\n",
    "\\vdots & \\vdots & \\ddots & \\vdots \\\\\n",
    "A_{n1} & A_{n2} & \\cdots & A_{nn} \\\\\n",
    "\\end{bmatrix}^{T}$$"
   ]
  },
  {
   "cell_type": "code",
   "execution_count": null,
   "metadata": {},
   "outputs": [],
   "source": []
  },
  {
   "cell_type": "markdown",
   "metadata": {},
   "source": [
    "Met behulp van de random nummer generator van numpy is het mogelijk om relatief makkelijk een matrix met getallen te genereren. Bijvoorbeeld ```np.random.random((200,200))``` maakt een 200 bij 200 matrix met willekeurige getallen aan.\n",
    "\n",
    "En met de magische commando's in jupyter is het mogelijk om de tijd van een berekening weer te geven. "
   ]
  },
  {
   "cell_type": "code",
   "execution_count": null,
   "metadata": {},
   "outputs": [],
   "source": [
    "A = np.random.random((250,250))\n",
    "%time b=np.linalg.inv(A)"
   ]
  },
  {
   "cell_type": "markdown",
   "metadata": {},
   "source": [
    "<div class=\"alert alert-block alert-success\">Opgave 10 </div>\n",
    "\n",
    "* Wat is de grootste matrix waar je nog een inverse van kan bepalen?\n",
    "* Hoeveel vergelijkingen kan je dus simultaan oplossen?\n"
   ]
  },
  {
   "cell_type": "code",
   "execution_count": null,
   "metadata": {},
   "outputs": [],
   "source": []
  },
  {
   "cell_type": "markdown",
   "metadata": {},
   "source": [
    "De regel van Cramer (3.5 uit het wiskunde boek) kan je gebruiken om een stelsel van vergelijkingen met $n$ vergelijkingen en $n$ onbekenden op te lossen. \n",
    "\n",
    "<div class=\"alert alert-block alert-info\">Opgave 11 </div>\n",
    "\n",
    "* Maak opgave 1 en 2 van bladzijde 111 uit het wiskunde boek.\n",
    "* Maak opgave 6 van bladzijde 112 uit het wiskunde boek. \n",
    "\n",
    "<div class=\"alert alert-block alert-success\">Opgave 12 </div>\n",
    "\n",
    "* Werk opgave 3 van bladzijde 111 uit het wiskunde boek uit met behulp van sympy. \n",
    "* Werk opgave 5 van bladzijde 111 uit het wiskunde boek uit met behulp van sympy."
   ]
  },
  {
   "cell_type": "code",
   "execution_count": null,
   "metadata": {},
   "outputs": [],
   "source": []
  }
 ],
 "metadata": {
  "kernelspec": {
   "display_name": "Python 3",
   "language": "python",
   "name": "python3"
  },
  "language_info": {
   "codemirror_mode": {
    "name": "ipython",
    "version": 3
   },
   "file_extension": ".py",
   "mimetype": "text/x-python",
   "name": "python",
   "nbconvert_exporter": "python",
   "pygments_lexer": "ipython3",
   "version": "3.7.3"
  }
 },
 "nbformat": 4,
 "nbformat_minor": 2
}
